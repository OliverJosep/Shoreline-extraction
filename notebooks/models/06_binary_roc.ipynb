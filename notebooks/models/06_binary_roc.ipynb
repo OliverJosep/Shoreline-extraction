{
 "cells": [
  {
   "cell_type": "code",
   "execution_count": 1,
   "id": "bbf9fb08",
   "metadata": {},
   "outputs": [
    {
     "name": "stderr",
     "output_type": "stream",
     "text": [
      "c:\\Users\\josep\\.conda\\envs\\imagine\\Lib\\site-packages\\albumentations\\__init__.py:28: UserWarning: A new version of Albumentations is available: '2.0.8' (you have '2.0.5'). Upgrade using: pip install -U albumentations. To disable automatic update checks, set the environment variable NO_ALBUMENTATIONS_UPDATE to 1.\n",
      "  check_for_updates()\n"
     ]
    }
   ],
   "source": [
    "import sys\n",
    "import os\n",
    "import matplotlib.pyplot as plt\n",
    "import torch\n",
    "\n",
    "sys.path.append(os.path.abspath(os.path.join(os.getcwd(), \"../..\")))\n",
    "\n",
    "from models.unet.unet import UNet\n",
    "from src.models.data_management.cnn_formes import CNNFormes\n",
    "from src.data_processing.dataset_loader import CoastData\n",
    "from src.models.metrics import Metrics\n",
    "\n",
    "from src.models.data_management.data_loader import DataLoaderManager\n",
    "\n",
    "import cv2"
   ]
  },
  {
   "cell_type": "markdown",
   "id": "c2c9e7b7",
   "metadata": {},
   "source": [
    "# UNet"
   ]
  },
  {
   "cell_type": "code",
   "execution_count": 6,
   "id": "d2d218f9",
   "metadata": {},
   "outputs": [
    {
     "name": "stdout",
     "output_type": "stream",
     "text": [
      "CoastData: global - 1717 images\n",
      "Coast: agrelo, Total size: 244\n",
      "Coast: arenaldentem, Total size: 40\n",
      "Coast: cadiz, Total size: 946\n",
      "Coast: cies, Total size: 430\n",
      "Coast: samarador, Total size: 57\n"
     ]
    }
   ],
   "source": [
    "artifact_path = os.path.abspath(os.path.join(os.getcwd(), \"../../artifacts/\"))\n",
    "\n",
    "# Load the data to split it and save it to a dict\n",
    "model = UNet(num_classes=1, experiment_name=\"test_experiments\", use_mlflow=False)\n",
    "\n",
    "model.load_model(os.path.abspath(os.path.join(artifact_path, \"2025-05-06-11-26-35_binary_unet/models/best_model.pth\")))\n",
    "\n",
    "data_path = os.path.abspath(os.path.join(os.getcwd(), \"../../data/processed_shoreline\"))\n",
    "\n",
    "coast_data = CoastData(data_path)\n",
    "split = coast_data.split_data()\n",
    "\n",
    "data = DataLoaderManager.load_data(split)"
   ]
  },
  {
   "cell_type": "code",
   "execution_count": 7,
   "id": "f950adde",
   "metadata": {},
   "outputs": [],
   "source": [
    "import numpy as np\n",
    "split = \"test\"\n",
    "\n",
    "all_probs_unet = []\n",
    "all_masks_unet = []\n",
    "\n",
    "for img_path, mask_path in zip(data[split][\"images\"], data[split][\"masks\"]):\n",
    "    pred = model.predict_patch(img_path, combination=\"max\", raw_output=True)\n",
    "    mask = cv2.imread(mask_path, cv2.IMREAD_GRAYSCALE)\n",
    "\n",
    "    # print(np.unique(mask, return_counts=True))\n",
    "    all_probs_unet.append(pred.cpu().ravel().numpy())\n",
    "    all_masks_unet.append(mask.ravel())\n",
    "    \n",
    "    # break"
   ]
  },
  {
   "cell_type": "markdown",
   "id": "594d9952",
   "metadata": {},
   "source": [
    "# Attention UNet"
   ]
  },
  {
   "cell_type": "code",
   "execution_count": null,
   "id": "a38c90ea",
   "metadata": {},
   "outputs": [
    {
     "name": "stdout",
     "output_type": "stream",
     "text": [
      "CoastData: global - 1717 images\n",
      "Coast: agrelo, Total size: 244\n",
      "Coast: arenaldentem, Total size: 40\n",
      "Coast: cadiz, Total size: 946\n",
      "Coast: cies, Total size: 430\n",
      "Coast: samarador, Total size: 57\n"
     ]
    }
   ],
   "source": [
    "from models.attention_unet.attention_unet import Attention_UNet\n",
    "\n",
    "artifact_path = os.path.abspath(os.path.join(os.getcwd(), \"../../artifacts/\"))\n",
    "\n",
    "# Load the data to split it and save it to a dict\n",
    "model = Attention_UNet(num_classes=1, experiment_name=\"test_experiments\", use_mlflow=False)\n",
    "\n",
    "model.load_model(os.path.abspath(os.path.join(artifact_path, \"2025-03-24-10-58-30_binary_attention/models/best_model.pth\")))\n",
    "\n",
    "data_path = os.path.abspath(os.path.join(os.getcwd(), \"../../data/processed_shoreline\"))\n",
    "\n",
    "coast_data = CoastData(data_path)\n",
    "split = coast_data.split_data()\n",
    "\n",
    "data = DataLoaderManager.load_data(split)"
   ]
  },
  {
   "cell_type": "code",
   "execution_count": 9,
   "id": "fa1f43ae",
   "metadata": {},
   "outputs": [],
   "source": [
    "split = \"test\"\n",
    "\n",
    "all_probs_attention_unet = []\n",
    "all_masks_attention_unet = []\n",
    "\n",
    "for img_path, mask_path in zip(data[split][\"images\"], data[split][\"masks\"]):\n",
    "    pred = model.predict_patch(img_path, combination=\"max\", raw_output=True)\n",
    "    mask = cv2.imread(mask_path, cv2.IMREAD_GRAYSCALE)\n",
    "\n",
    "    # print(np.unique(mask, return_counts=True))\n",
    "    all_probs_attention_unet.append(pred.cpu().ravel().numpy())\n",
    "    all_masks_attention_unet.append(mask.ravel())"
   ]
  },
  {
   "cell_type": "markdown",
   "id": "a89464e7",
   "metadata": {},
   "source": [
    "# DUCK-Net"
   ]
  },
  {
   "cell_type": "code",
   "execution_count": 2,
   "id": "21ae1d72",
   "metadata": {},
   "outputs": [
    {
     "name": "stdout",
     "output_type": "stream",
     "text": [
      "CoastData: global - 1717 images\n",
      "Coast: agrelo, Total size: 244\n",
      "Coast: arenaldentem, Total size: 40\n",
      "Coast: cadiz, Total size: 946\n",
      "Coast: cies, Total size: 430\n",
      "Coast: samarador, Total size: 57\n"
     ]
    }
   ],
   "source": [
    "from models.duck_net.duck_net import DuckNet\n",
    "\n",
    "artifact_path = os.path.abspath(os.path.join(os.getcwd(), \"../../artifacts/\"))\n",
    "\n",
    "# Load the data to split it and save it to a dict\n",
    "model = DuckNet(num_classes=1, experiment_name=\"test_experiments\", use_mlflow=False)\n",
    "\n",
    "model.load_model(os.path.abspath(os.path.join(artifact_path, \"2025-06-12-10-00-04_binary_ducknet/models/best_model.pth\")))\n",
    "\n",
    "data_path = os.path.abspath(os.path.join(os.getcwd(), \"../../data/processed_shoreline\"))\n",
    "\n",
    "coast_data = CoastData(data_path)\n",
    "split = coast_data.split_data()\n",
    "\n",
    "data = DataLoaderManager.load_data(split)"
   ]
  },
  {
   "cell_type": "code",
   "execution_count": 3,
   "id": "6e49bdc4",
   "metadata": {},
   "outputs": [],
   "source": [
    "split = \"test\"\n",
    "\n",
    "all_probs_duck_net = []\n",
    "all_masks_duck_net = []\n",
    "\n",
    "for img_path, mask_path in zip(data[split][\"images\"], data[split][\"masks\"]):\n",
    "    pred = model.predict_patch(img_path, combination=\"max\", raw_output=True)\n",
    "    mask = cv2.imread(mask_path, cv2.IMREAD_GRAYSCALE)\n",
    "\n",
    "    # print(np.unique(mask, return_counts=True))\n",
    "    all_probs_duck_net.append(pred.cpu().ravel().numpy())\n",
    "    all_masks_duck_net.append(mask.ravel())"
   ]
  },
  {
   "cell_type": "markdown",
   "id": "856ce001",
   "metadata": {},
   "source": [
    "# DeepLabV3"
   ]
  },
  {
   "cell_type": "code",
   "execution_count": 10,
   "id": "148204be",
   "metadata": {},
   "outputs": [
    {
     "name": "stderr",
     "output_type": "stream",
     "text": [
      "Using cache found in C:\\Users\\josep/.cache\\torch\\hub\\pytorch_vision_v0.10.0\n",
      "c:\\Users\\josep\\.conda\\envs\\imagine\\Lib\\site-packages\\torchvision\\models\\_utils.py:208: UserWarning: The parameter 'pretrained' is deprecated since 0.13 and may be removed in the future, please use 'weights' instead.\n",
      "  warnings.warn(\n",
      "c:\\Users\\josep\\.conda\\envs\\imagine\\Lib\\site-packages\\torchvision\\models\\_utils.py:223: UserWarning: Arguments other than a weight enum or `None` for 'weights' are deprecated since 0.13 and may be removed in the future. The current behavior is equivalent to passing `weights=None`.\n",
      "  warnings.warn(msg)\n"
     ]
    },
    {
     "name": "stdout",
     "output_type": "stream",
     "text": [
      "CoastData: global - 1717 images\n",
      "Coast: agrelo, Total size: 244\n",
      "Coast: arenaldentem, Total size: 40\n",
      "Coast: cadiz, Total size: 946\n",
      "Coast: cies, Total size: 430\n",
      "Coast: samarador, Total size: 57\n"
     ]
    }
   ],
   "source": [
    "from models.deeplab.deeplab import DeepLabV3\n",
    "\n",
    "artifact_path = os.path.abspath(os.path.join(os.getcwd(), \"../../artifacts/\"))\n",
    "\n",
    "# Load the data to split it and save it to a dict\n",
    "model = DeepLabV3(num_classes=1, experiment_name=\"test_experiments\", use_mlflow=False)\n",
    "\n",
    "model.load_model(os.path.abspath(os.path.join(artifact_path, \"2025-03-21-16-10-53_binary_deeplabv3/models/best_model.pth\")))\n",
    "\n",
    "data_path = os.path.abspath(os.path.join(os.getcwd(), \"../../data/processed_shoreline\"))\n",
    "\n",
    "coast_data = CoastData(data_path)\n",
    "split = coast_data.split_data()\n",
    "\n",
    "data = DataLoaderManager.load_data(split)"
   ]
  },
  {
   "cell_type": "code",
   "execution_count": 11,
   "id": "28da81c3",
   "metadata": {},
   "outputs": [],
   "source": [
    "split = \"test\"\n",
    "\n",
    "all_probs_deeplab = []\n",
    "all_masks_deeplab = []\n",
    "\n",
    "for img_path, mask_path in zip(data[split][\"images\"], data[split][\"masks\"]):\n",
    "    pred = model.predict_patch(img_path, combination=\"max\", raw_output=True)\n",
    "    mask = cv2.imread(mask_path, cv2.IMREAD_GRAYSCALE)\n",
    "\n",
    "    # print(np.unique(mask, return_counts=True))\n",
    "    all_probs_deeplab.append(pred.cpu().ravel().numpy())\n",
    "    all_masks_deeplab.append(mask.ravel())"
   ]
  },
  {
   "cell_type": "code",
   "execution_count": 5,
   "id": "34115353",
   "metadata": {},
   "outputs": [
    {
     "name": "stdout",
     "output_type": "stream",
     "text": [
      "Best F1 for DUCK-Net: 0.2113 at threshold 0.1360\n"
     ]
    },
    {
     "data": {
      "image/png": "[encoded data removed]",
      "text/plain": [
       "<Figure size 600x400 with 1 Axes>"
      ]
     },
     "metadata": {},
     "output_type": "display_data"
    },
    {
     "data": {
      "text/plain": [
       "<Figure size 640x480 with 0 Axes>"
      ]
     },
     "metadata": {},
     "output_type": "display_data"
    }
   ],
   "source": [
    "#temp\n",
    "\n",
    "import numpy as np\n",
    "import matplotlib.pyplot as plt\n",
    "from sklearn.metrics import precision_recall_curve\n",
    "\n",
    "# Concatenar totes les màscares i prediccions (de llistes) i aplanar-les\n",
    "y_true_flat = np.concatenate(all_masks_duck_net).flatten()\n",
    "y_pred_ducknet = np.concatenate(all_probs_duck_net).flatten()\n",
    "\n",
    "\n",
    "# # Flattenem GT i prediccions\n",
    "# y_true_flat = all_masks_unet.flatten()\n",
    "\n",
    "model_preds = {\n",
    "    'DUCK-Net': y_pred_ducknet\n",
    "}\n",
    "\n",
    "plt.figure(figsize=(6, 4))\n",
    "\n",
    "for name, y_pred_flat in model_preds.items():\n",
    "    precision, recall, thresholds = precision_recall_curve(y_true_flat, y_pred_flat)\n",
    "    f1_scores = 2 * (precision * recall) / (precision + recall + 1e-8)\n",
    "    best_idx = np.argmax(f1_scores)\n",
    "    best_f1 = f1_scores[best_idx]\n",
    "    best_threshold = thresholds[best_idx] if best_idx < len(thresholds) else thresholds[-1]\n",
    "\n",
    "    print(f\"Best F1 for {name}: {best_f1:.4f} at threshold {best_threshold:.4f}\")\n",
    "\n",
    "    # Corba\n",
    "    plt.plot(recall, precision, label=name)\n",
    "    # Punt òptim (sense text)\n",
    "    plt.scatter(recall[best_idx], precision[best_idx], s=30)\n",
    "\n",
    "plt.xlabel(\"Recall\")\n",
    "plt.ylabel(\"Precision\")\n",
    "plt.title(\"Precision-Recall Curve - Shoreline Class\")\n",
    "plt.grid(True)\n",
    "plt.legend()\n",
    "plt.tight_layout()\n",
    "plt.show()\n",
    "# Save the plot\n",
    "plt.savefig(os.path.join(artifact_path, \"precision_recall_curve_shoreline_one_class.png\"), dpi=300)\n"
   ]
  },
  {
   "cell_type": "code",
   "execution_count": 12,
   "id": "ca4baaed",
   "metadata": {},
   "outputs": [
    {
     "name": "stdout",
     "output_type": "stream",
     "text": [
      "Best F1 for U-Net: 0.1537 at threshold 0.9496\n",
      "Best F1 for Attention U-Net: 0.1531 at threshold 0.9654\n",
      "Best F1 for DUCK-Net: 0.2113 at threshold 0.1360\n",
      "Best F1 for DeepLabv3: 0.1739 at threshold 0.9733\n"
     ]
    },
    {
     "name": "stderr",
     "output_type": "stream",
     "text": [
      "C:\\Users\\josep\\AppData\\Local\\Temp\\ipykernel_21132\\631812904.py:44: UserWarning: Creating legend with loc=\"best\" can be slow with large amounts of data.\n",
      "  plt.tight_layout()\n",
      "c:\\Users\\josep\\.conda\\envs\\imagine\\Lib\\site-packages\\IPython\\core\\pylabtools.py:170: UserWarning: Creating legend with loc=\"best\" can be slow with large amounts of data.\n",
      "  fig.canvas.print_figure(bytes_io, **kw)\n"
     ]
    },
    {
     "data": {
      "image/png": "[encoded data removed]",
      "text/plain": [
       "<Figure size 600x400 with 1 Axes>"
      ]
     },
     "metadata": {},
     "output_type": "display_data"
    },
    {
     "data": {
      "text/plain": [
       "<Figure size 640x480 with 0 Axes>"
      ]
     },
     "metadata": {},
     "output_type": "display_data"
    }
   ],
   "source": [
    "import numpy as np\n",
    "import matplotlib.pyplot as plt\n",
    "from sklearn.metrics import precision_recall_curve\n",
    "\n",
    "# Concatenar totes les màscares i prediccions (de llistes) i aplanar-les\n",
    "y_true_flat = np.concatenate(all_masks_unet).flatten()\n",
    "y_pred_unet = np.concatenate(all_probs_unet).flatten()\n",
    "y_pred_attunet = np.concatenate(all_probs_attention_unet).flatten()\n",
    "y_pred_ducknet = np.concatenate(all_probs_duck_net).flatten()\n",
    "y_pred_deeplab = np.concatenate(all_probs_deeplab).flatten()\n",
    "\n",
    "\n",
    "# # Flattenem GT i prediccions\n",
    "# y_true_flat = all_masks_unet.flatten()\n",
    "\n",
    "model_preds = {\n",
    "    'U-Net': y_pred_unet,\n",
    "    'Attention U-Net': y_pred_attunet,\n",
    "    'DUCK-Net': y_pred_ducknet,\n",
    "    'DeepLabv3': y_pred_deeplab,\n",
    "}\n",
    "\n",
    "plt.figure(figsize=(6, 4))\n",
    "\n",
    "for name, y_pred_flat in model_preds.items():\n",
    "    precision, recall, thresholds = precision_recall_curve(y_true_flat, y_pred_flat)\n",
    "    f1_scores = 2 * (precision * recall) / (precision + recall + 1e-8)\n",
    "    best_idx = np.argmax(f1_scores)\n",
    "    best_f1 = f1_scores[best_idx]\n",
    "    best_threshold = thresholds[best_idx] if best_idx < len(thresholds) else thresholds[-1]\n",
    "\n",
    "    print(f\"Best F1 for {name}: {best_f1:.4f} at threshold {best_threshold:.4f}\")\n",
    "\n",
    "    # Corba\n",
    "    plt.plot(recall, precision, label=name)\n",
    "    # Punt òptim (sense text)\n",
    "    plt.scatter(recall[best_idx], precision[best_idx], s=30)\n",
    "\n",
    "plt.xlabel(\"Recall\")\n",
    "plt.ylabel(\"Precision\")\n",
    "plt.title(\"Precision-Recall Curve - Shoreline Class\")\n",
    "plt.grid(True)\n",
    "plt.legend()\n",
    "plt.tight_layout()\n",
    "plt.show()\n",
    "# Save the plot\n",
    "plt.savefig(os.path.join(artifact_path, \"precision_recall_curve_shoreline_one_class.png\"), dpi=300)\n"
   ]
  }
 ],
 "metadata": {
  "kernelspec": {
   "display_name": "imagine",
   "language": "python",
   "name": "python3"
  },
  "language_info": {
   "codemirror_mode": {
    "name": "ipython",
    "version": 3
   },
   "file_extension": ".py",
   "mimetype": "text/x-python",
   "name": "python",
   "nbconvert_exporter": "python",
   "pygments_lexer": "ipython3",
   "version": "3.13.2"
  }
 },
 "nbformat": 4,
 "nbformat_minor": 5
}
