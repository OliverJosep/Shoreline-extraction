{
 "cells": [
  {
   "cell_type": "code",
   "execution_count": 1,
   "metadata": {},
   "outputs": [
    {
     "name": "stderr",
     "output_type": "stream",
     "text": [
      "/opt/conda/lib/python3.10/site-packages/albumentations/__init__.py:28: UserWarning: A new version of Albumentations is available: '2.0.5' (you have '2.0.4'). Upgrade using: pip install -U albumentations. To disable automatic update checks, set the environment variable NO_ALBUMENTATIONS_UPDATE to 1.\n",
      "  check_for_updates()\n"
     ]
    }
   ],
   "source": [
    "import sys\n",
    "import os\n",
    "import matplotlib.pyplot as plt\n",
    "import torch\n",
    "# Add the src directory to the path. TEMPORARY FIX\n",
    "sys.path.append(os.path.abspath(os.path.join(os.getcwd(), \"../../..\")))\n",
    "\n",
    "from models.deeplab.deeplab import DeepLabV3\n",
    "from src.models.data_management.cnn_formes import CNNFormes\n",
    "from src.data_processing.dataset_loader import CoastData\n",
    "from src.models.metrics import Metrics\n",
    "\n",
    "from src.models.data_management.data_loader import DataLoaderManager\n",
    "\n",
    "import cv2"
   ]
  },
  {
   "cell_type": "code",
   "execution_count": 3,
   "metadata": {},
   "outputs": [
    {
     "name": "stderr",
     "output_type": "stream",
     "text": [
      "Using cache found in /root/.cache/torch/hub/pytorch_vision_v0.10.0\n"
     ]
    },
    {
     "name": "stdout",
     "output_type": "stream",
     "text": [
      "CoastData: global - 1717 images\n",
      "Coast: agrelo, Total size: 244\n",
      "Coast: arenaldentem, Total size: 40\n",
      "Coast: cadiz, Total size: 946\n",
      "Coast: cies, Total size: 430\n",
      "Coast: samarador, Total size: 57\n"
     ]
    }
   ],
   "source": [
    "artifact_path = os.path.abspath(os.path.join(os.getcwd(), \"../../../artifacts/\"))\n",
    "\n",
    "num_classes = 3\n",
    "metrics = {\n",
    "    \"train\": Metrics(phase=\"train\", num_classes=num_classes, average=None, use_margin=False),\n",
    "    \"validation\": Metrics(phase=\"val\", num_classes=num_classes, average=None, use_margin=False),\n",
    "    \"test\": Metrics(phase=\"test\", num_classes=num_classes, average=None, use_margin=False) # 'macro'\n",
    "}\n",
    "\n",
    "# Load the data to split it and save it to a dict\n",
    "model  = DeepLabV3(num_classes=3, experiment_name=\"test_experiments\", use_mlflow=False, pretrained=False)\n",
    "\n",
    "model.load_model(os.path.abspath(os.path.join(artifact_path, \"2025-03-12-11-44-51_deeplab/models/best_model.pth\")))\n",
    "\n",
    "data_path = os.path.abspath(os.path.join(os.getcwd(), \"../../../data/processed\"))\n",
    "\n",
    "coast_data = CoastData(data_path)\n",
    "split = coast_data.split_data()\n",
    "\n",
    "data = DataLoaderManager.load_data(split)"
   ]
  },
  {
   "cell_type": "code",
   "execution_count": 5,
   "metadata": {},
   "outputs": [
    {
     "name": "stdout",
     "output_type": "stream",
     "text": [
      "Split: train\n"
     ]
    },
    {
     "name": "stderr",
     "output_type": "stream",
     "text": [
      "/opt/conda/lib/python3.10/site-packages/torcheval/metrics/functional/classification/accuracy.py:275: UserWarning: The reduce argument of torch.scatter with Tensor src is deprecated and will be removed in a future PyTorch release. Use torch.scatter_reduce instead for more reduction options. (Triggered internally at /opt/conda/conda-bld/pytorch_1695392020201/work/aten/src/ATen/native/TensorAdvancedIndexing.cpp:230.)\n",
      "  num_correct = mask.new_zeros(num_classes).scatter_(0, target, mask, reduce=\"add\")\n"
     ]
    },
    {
     "name": "stdout",
     "output_type": "stream",
     "text": [
      "train metrics: \n",
      "\ttrain_accuracy: tensor([0.9980, 0.9849, 0.9887])\n",
      "\ttrain_f1_score: tensor([0.9932, 0.9886, 0.9886])\n",
      "\ttrain_precision: tensor([0.9884, 0.9924, 0.9885])\n",
      "\ttrain_recall: tensor([0.9980, 0.9849, 0.9887])\n",
      "\ttrain_confusion_matrix: \n",
      "\t\t0.9980 0.0007 0.0013\n",
      "\t\t0.0048 0.9849 0.0103\n",
      "\t\t0.0041 0.0072 0.9887\n",
      "\n",
      "Split: validation\n",
      "val metrics: \n",
      "\tval_accuracy: tensor([0.9989, 0.9798, 0.9816])\n",
      "\tval_f1_score: tensor([0.9937, 0.9826, 0.9826])\n",
      "\tval_precision: tensor([0.9885, 0.9854, 0.9837])\n",
      "\tval_recall: tensor([0.9989, 0.9798, 0.9816])\n",
      "\tval_confusion_matrix: \n",
      "\t\t0.9989 0.0006 0.0005\n",
      "\t\t0.0046 0.9798 0.0156\n",
      "\t\t0.0041 0.0143 0.9816\n",
      "\n",
      "Split: test\n",
      "test metrics: \n",
      "\ttest_accuracy: tensor([0.9986, 0.9775, 0.9769])\n",
      "\ttest_f1_score: tensor([0.9930, 0.9793, 0.9792])\n",
      "\ttest_precision: tensor([0.9873, 0.9811, 0.9815])\n",
      "\ttest_recall: tensor([0.9986, 0.9775, 0.9769])\n",
      "\ttest_confusion_matrix: \n",
      "\t\t0.9986 0.0008 0.0006\n",
      "\t\t0.0052 0.9775 0.0174\n",
      "\t\t0.0043 0.0188 0.9769\n",
      "\n"
     ]
    }
   ],
   "source": [
    "for split in data:\n",
    "    print(f\"Split: {split}\")\n",
    "    for img_path, mask_path in zip(data[split][\"images\"], data[split][\"masks\"]):\n",
    "        pred = model.predict_patch(img_path, combination=\"max\")\n",
    "        mask = cv2.imread(mask_path, cv2.IMREAD_GRAYSCALE)\n",
    "        mask = torch.from_numpy(mask).float() \n",
    "        metrics[split].update_metrics(pred, mask)\n",
    "\n",
    "    metrics[split].compute()\n",
    "    print(metrics[split].get_last_epoch_info())"
   ]
  },
  {
   "cell_type": "code",
   "execution_count": null,
   "metadata": {},
   "outputs": [],
   "source": []
  }
 ],
 "metadata": {
  "kernelspec": {
   "display_name": "Python 3 (ipykernel)",
   "language": "python",
   "name": "python3"
  },
  "language_info": {
   "codemirror_mode": {
    "name": "ipython",
    "version": 3
   },
   "file_extension": ".py",
   "mimetype": "text/x-python",
   "name": "python",
   "nbconvert_exporter": "python",
   "pygments_lexer": "ipython3",
   "version": "3.10.13"
  }
 },
 "nbformat": 4,
 "nbformat_minor": 4
}
