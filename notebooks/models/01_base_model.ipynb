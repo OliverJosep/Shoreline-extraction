{
 "cells": [
  {
   "cell_type": "code",
   "execution_count": 1,
   "metadata": {},
   "outputs": [],
   "source": [
    "import sys\n",
    "import os\n",
    "import matplotlib.pyplot as plt\n",
    "\n",
    "# Add the src directory to the path. TEMPORARY FIX\n",
    "sys.path.append(os.path.abspath(os.path.join(os.getcwd(), \"../..\")))\n",
    "\n",
    "from models.base_model import BaseModel\n",
    "from models.unet.unet_formes import UNetFormes\n",
    "from src.data_processing.dataset_loader import CoastData\n"
   ]
  },
  {
   "cell_type": "code",
   "execution_count": 2,
   "metadata": {},
   "outputs": [],
   "source": [
    "base_model = BaseModel()"
   ]
  },
  {
   "cell_type": "code",
   "execution_count": 3,
   "metadata": {},
   "outputs": [
    {
     "name": "stdout",
     "output_type": "stream",
     "text": [
      "Test if the data is loaded correctly\n",
      "/Users/josep/Documents/SOCIB/Shoreline-extraction/data/patchify/train/images/1522837560.Wed.Apr.04_11_26_00.CET.2018.cies.image.patch.0_0.jpg\n",
      "/Users/josep/Documents/SOCIB/Shoreline-extraction/data/patchify/train/masks/1522837560.Wed.Apr.04_11_26_00.CET.2018.cies.mask.patch.0_0.png\n",
      "Test if the formes is loaded correctly\n",
      "('/Users/josep/Documents/SOCIB/Shoreline-extraction/data/patchify/train/images/1522837560.Wed.Apr.04_11_26_00.CET.2018.cies.image.patch.0_0.jpg', '/Users/josep/Documents/SOCIB/Shoreline-extraction/data/patchify/train/masks/1522837560.Wed.Apr.04_11_26_00.CET.2018.cies.mask.patch.0_0.png')\n"
     ]
    }
   ],
   "source": [
    "\"\"\"\n",
    "Loading the data following the structure below:\n",
    "\n",
    "data_path\n",
    "    ├── train\n",
    "    │   ├── images\n",
    "    │   └── masks\n",
    "    ├── validation\n",
    "    │   ├── images\n",
    "    │   └── masks\n",
    "    └── test\n",
    "        ├── images\n",
    "        └── masks\n",
    "\"\"\"\n",
    "\n",
    "path = os.path.abspath(os.path.join(os.getcwd(), \"../../data/patchify/\"))\n",
    "\n",
    "base_model.load_data(path, formes_class=UNetFormes)\n",
    "\n",
    "print(\"Test if the data is loaded correctly\")\n",
    "print(base_model.data['train']['images'][0])\n",
    "print(base_model.data['train']['masks'][0])\n",
    "\n",
    "print(\"Test if the formes is loaded correctly\")\n",
    "print(base_model.train_formes[0])"
   ]
  },
  {
   "cell_type": "code",
   "execution_count": null,
   "metadata": {},
   "outputs": [
    {
     "name": "stdout",
     "output_type": "stream",
     "text": [
      "CoastData: global - 1717 images\n",
      "Coast: agrelo, Total size: 244\n",
      "Coast: arenaldentem, Total size: 40\n",
      "Coast: cadiz, Total size: 946\n",
      "Coast: cies, Total size: 430\n",
      "Coast: samarador, Total size: 57\n",
      "Test if the data is loaded correctly\n",
      "/Users/josep/Documents/SOCIB/Shoreline-extraction/data/raw/SCLabels_v1.0.0/images/1555342200.Mon.Apr.15_16_30_00.CET.2019.agrelo.image.jpg\n",
      "/Users/josep/Documents/SOCIB/Shoreline-extraction/data/raw/SCLabels_v1.0.0/masks/1555342200.Mon.Apr.15_16_30_00.CET.2019.agrelo.mask.png\n",
      "Test if the formes is loaded correctly\n",
      "('/Users/josep/Documents/SOCIB/Shoreline-extraction/data/raw/SCLabels_v1.0.0/images/1555342200.Mon.Apr.15_16_30_00.CET.2019.agrelo.image.jpg', '/Users/josep/Documents/SOCIB/Shoreline-extraction/data/raw/SCLabels_v1.0.0/masks/1555342200.Mon.Apr.15_16_30_00.CET.2019.agrelo.mask.png')\n"
     ]
    }
   ],
   "source": [
    "# Load from dict\n",
    "\n",
    "# Load the data to split it and save it to a dict\n",
    "path = os.path.abspath(os.path.join(os.getcwd(), \"../../data/raw/SCLabels_v1.0.0\"))\n",
    "data = CoastData(data_path=path)\n",
    "\n",
    "data_split = data.split_data()\n",
    "# print(data_split[\"train\"][\"images\"][0])\n",
    "\n",
    "# Load the data to the model with the dict\n",
    "base_model = BaseModel()\n",
    "data = base_model.load_data(data_split, UNetFormes)\n",
    "\n",
    "print(\"Test if the data is loaded correctly\")\n",
    "print(base_model.data['train']['images'][0])\n",
    "print(base_model.data['train']['masks'][0])\n",
    "\n",
    "print(\"Test if the formes is loaded correctly\")\n",
    "print(base_model.train_formes[0])\n"
   ]
  }
 ],
 "metadata": {
  "kernelspec": {
   "display_name": "visio",
   "language": "python",
   "name": "python3"
  },
  "language_info": {
   "codemirror_mode": {
    "name": "ipython",
    "version": 3
   },
   "file_extension": ".py",
   "mimetype": "text/x-python",
   "name": "python",
   "nbconvert_exporter": "python",
   "pygments_lexer": "ipython3",
   "version": "3.9.19"
  }
 },
 "nbformat": 4,
 "nbformat_minor": 2
}
