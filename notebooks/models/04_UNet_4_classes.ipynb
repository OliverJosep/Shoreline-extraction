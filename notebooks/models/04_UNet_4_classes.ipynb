{
 "cells": [
  {
   "cell_type": "code",
   "execution_count": null,
   "metadata": {},
   "outputs": [],
   "source": [
    "import sys\n",
    "import os\n",
    "import matplotlib.pyplot as plt\n",
    "\n",
    "# Add the src directory to the path. TEMPORARY FIX\n",
    "sys.path.append(os.path.abspath(os.path.join(os.getcwd(), \"../..\")))\n",
    "\n",
    "from models.unet.unet import UNet\n",
    "from models.unet.unet_formes import UNetFormes\n",
    "from src.data_processing.dataset_loader import CoastData\n",
    "from src.models.data_management.data_loader import DataLoaderManager\n",
    "\n",
    "import cv2"
   ]
  },
  {
   "cell_type": "code",
   "execution_count": null,
   "metadata": {},
   "outputs": [],
   "source": [
    "# Load the data to split it and save it to a dict\n",
    "path = os.path.abspath(os.path.join(os.getcwd(), \"../../data/patchify_4_classes/\"))"
   ]
  },
  {
   "cell_type": "code",
   "execution_count": null,
   "metadata": {},
   "outputs": [],
   "source": [
    "unet = UNet(num_classes=4, experiment_name=\"test_experiments\", use_mlflow=True)"
   ]
  },
  {
   "cell_type": "code",
   "execution_count": null,
   "metadata": {},
   "outputs": [],
   "source": [
    "# Load the data to the model\n",
    "data = unet.load_data(path, UNetFormes)"
   ]
  },
  {
   "cell_type": "markdown",
   "metadata": {},
   "source": [
    "Not classified percentage: 42.260%\n",
    "\n",
    "Land percentage: 31.173%\n",
    "\n",
    "Sea percentage: 26.415%\n",
    "\n",
    "Shoreline percentage: 0.153%\n",
    "\n",
    "---\n",
    "\n",
    "not_classified = 42,260 / 42,260 =  1\n",
    "\n",
    "land = 42,260 / 31,173 = 1,36\n",
    "\n",
    "sea = 142,260 / 26,415 = 1,60\n",
    "\n",
    "shoreline = 42,260 / 0,153 = 276,14\n"
   ]
  },
  {
   "cell_type": "code",
   "execution_count": null,
   "metadata": {},
   "outputs": [],
   "source": [
    "weight = [1, 1.36, 1.60, 276.14]\n",
    "\n",
    "artifact_path = os.path.abspath(os.path.join(path, \"../../artifacts/\"))\n",
    "\n",
    "# Train the model\n",
    "unet.train(epochs=50, loss_function_name=\"BCEWithLogitsLoss\", weight=weight, artifact_path=artifact_path)"
   ]
  },
  {
   "cell_type": "markdown",
   "metadata": {},
   "source": [
    "# Predictions"
   ]
  },
  {
   "cell_type": "code",
   "execution_count": null,
   "metadata": {},
   "outputs": [],
   "source": [
    "import numpy as np\n",
    "data = DataLoaderManager.load_data(os.path.abspath(os.path.join(os.getcwd(), \"../../data/patchify_shoreline/\")))\n",
    "index = 1\n",
    "img_path = data[\"test\"]['images'][index]\n",
    "mask_path = data[\"test\"]['masks'][index]\n",
    "\n",
    "unet.load_model(\"../../prova/2025-02-14-09-35-29.pth\")\n",
    "\n",
    "img = cv2.imread(img_path)\n",
    "img = cv2.cvtColor(img, cv2.COLOR_BGR2RGB)\n",
    "\n",
    "mask = cv2.imread(mask_path, cv2.IMREAD_GRAYSCALE)\n",
    "\n",
    "pred = unet.predict(img)\n",
    "\n",
    "print(np.unique(mask, return_counts=True))\n",
    "print(np.unique(pred, return_counts=True))\n",
    "\n",
    "\n",
    "fig, ax = plt.subplots(1, 3, figsize=(15, 5))\n",
    "ax[0].imshow(img)\n",
    "ax[1].imshow(mask)\n",
    "ax[2].imshow(pred.squeeze())\n",
    "\n",
    "plt.show()"
   ]
  }
 ],
 "metadata": {
  "kernelspec": {
   "display_name": "visio",
   "language": "python",
   "name": "python3"
  },
  "language_info": {
   "codemirror_mode": {
    "name": "ipython",
    "version": 3
   },
   "file_extension": ".py",
   "mimetype": "text/x-python",
   "name": "python",
   "nbconvert_exporter": "python",
   "pygments_lexer": "ipython3",
   "version": "3.9.19"
  }
 },
 "nbformat": 4,
 "nbformat_minor": 4
}
