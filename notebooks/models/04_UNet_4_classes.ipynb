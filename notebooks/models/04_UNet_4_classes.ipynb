{
 "cells": [
  {
   "cell_type": "code",
   "execution_count": null,
   "metadata": {},
   "outputs": [],
   "source": [
    "import sys\n",
    "import os\n",
    "import matplotlib.pyplot as plt\n",
    "import numpy as np\n",
    "import torch\n",
    "\n",
    "# Add the src directory to the path. TEMPORARY FIX\n",
    "sys.path.append(os.path.abspath(os.path.join(os.getcwd(), \"../..\")))\n",
    "\n",
    "from models.unet.unet import UNet\n",
    "from models.unet.unet_formes import UNetFormes\n",
    "from src.data_processing.dataset_loader import CoastData\n",
    "from src.models.data_management.data_loader import DataLoaderManager\n",
    "\n",
    "import cv2"
   ]
  },
  {
   "cell_type": "code",
   "execution_count": null,
   "metadata": {},
   "outputs": [],
   "source": [
    "# Load the data to split it and save it to a dict\n",
    "path = os.path.abspath(os.path.join(os.getcwd(), \"../../data/patchify_4_classes/\"))"
   ]
  },
  {
   "cell_type": "code",
   "execution_count": null,
   "metadata": {},
   "outputs": [],
   "source": [
    "unet = UNet(num_classes=4, experiment_name=\"test_experiments\", use_mlflow=False)"
   ]
  },
  {
   "cell_type": "code",
   "execution_count": null,
   "metadata": {},
   "outputs": [],
   "source": [
    "# Load the data to the model\n",
    "data = unet.load_data(path, UNetFormes)"
   ]
  },
  {
   "cell_type": "markdown",
   "metadata": {},
   "source": [
    "Not classified percentage: 42.260%\n",
    "\n",
    "Land percentage: 31.173%\n",
    "\n",
    "Sea percentage: 26.415%\n",
    "\n",
    "Shoreline percentage: 0.153%\n",
    "\n",
    "---\n",
    "\n",
    "not_classified = 42,260 / 42,260 =  1\n",
    "\n",
    "land = 42,260 / 31,173 = 1,36\n",
    "\n",
    "sea = 142,260 / 26,415 = 1,60\n",
    "\n",
    "shoreline = 42,260 / 0,153 = 276,14\n"
   ]
  },
  {
   "cell_type": "code",
   "execution_count": null,
   "metadata": {},
   "outputs": [],
   "source": [
    "weight = [1, 1.36, 1.60, 276.14]\n",
    "\n",
    "artifact_path = os.path.abspath(os.path.join(path, \"../../artifacts/\"))\n",
    "\n",
    "# Train the model\n",
    "# unet.train(epochs=50, loss_function_name=\"BCEWithLogitsLoss\", weight=weight, artifact_path=artifact_path)"
   ]
  },
  {
   "cell_type": "markdown",
   "metadata": {},
   "source": [
    "# Predictions"
   ]
  },
  {
   "cell_type": "code",
   "execution_count": null,
   "metadata": {},
   "outputs": [],
   "source": [
    "# Predict one patch\n",
    "artifact_path = os.path.abspath(os.path.join(path, \"../../artifacts/\"))\n",
    "data_path = os.path.abspath(os.path.join(os.getcwd(), \"../../data/patchify_4_classes/\"))\n",
    "\n",
    "data = DataLoaderManager.load_data(data_path)\n",
    "index = 0 # 72\n",
    "img_path = data[\"test\"]['images'][index]\n",
    "mask_path = data[\"test\"]['masks'][index]\n",
    "\n",
    "unet.load_model(os.path.abspath(os.path.join(artifact_path, \"2025-02-19-15-28-50/models/best_model.pth\")))\n",
    "\n",
    "img = cv2.imread(img_path)\n",
    "img = cv2.cvtColor(img, cv2.COLOR_BGR2RGB)\n",
    "\n",
    "mask = cv2.imread(mask_path, cv2.IMREAD_GRAYSCALE)\n",
    "\n",
    "# pred = unet.predict(img)\n",
    "pred = unet.predict(img_path)\n",
    "\n",
    "print(np.unique(mask, return_counts=True))\n",
    "print(np.unique(pred, return_counts=True))\n",
    "\n",
    "\n",
    "fig, ax = plt.subplots(1, 3, figsize=(15, 5))\n",
    "fig.suptitle(f\"Img path: {img_path.split('/')[-1]}\", y=0.05)\n",
    "\n",
    "ax[0].imshow(img)\n",
    "ax[0].set_title(\"Image\")\n",
    "\n",
    "ax[1].imshow(mask)\n",
    "ax[1].set_title(\"Mask\")\n",
    "\n",
    "ax[2].imshow(pred.squeeze())\n",
    "ax[2].set_title(\"Prediction\")\n",
    "\n",
    "plt.show()"
   ]
  },
  {
   "cell_type": "code",
   "execution_count": null,
   "metadata": {},
   "outputs": [],
   "source": [
    "# Predict the full image\n",
    "artifact_path = os.path.abspath(os.path.join(path, \"../../artifacts/\"))\n",
    "data_path = os.path.abspath(os.path.join(os.getcwd(), \"../../data/processed_4_classes/\"))\n",
    "\n",
    "coast_data = CoastData(data_path)\n",
    "split = coast_data.split_data()\n",
    "\n",
    "data = DataLoaderManager.load_data(split)\n",
    "index = 100 # 25 # 72\n",
    "img_path = data[\"test\"]['images'][index]\n",
    "mask_path = data[\"test\"]['masks'][index]\n",
    "\n",
    "img = cv2.imread(img_path)\n",
    "img = cv2.cvtColor(img, cv2.COLOR_BGR2RGB)\n",
    "\n",
    "mask = cv2.imread(mask_path, cv2.IMREAD_GRAYSCALE)\n",
    "\n",
    "unet.load_model(os.path.abspath(os.path.join(artifact_path, \"2025-02-19-15-28-50/models/best_model.pth\")))\n",
    "\n",
    "pred = unet.predict_patch(img_path, combination=\"max\")\n",
    "\n",
    "print(np.unique(mask, return_counts=True))\n",
    "print(np.unique(pred, return_counts=True))\n",
    "\n",
    "fig, ax = plt.subplots(1, 3, figsize=(15, 4))\n",
    "fig.suptitle(f\"Img path: {img_path.split('/')[-1]}\", y=0.05)\n",
    "\n",
    "ax[0].imshow(img)\n",
    "ax[0].set_title(\"Image\")\n",
    "\n",
    "ax[1].imshow(mask)\n",
    "ax[1].set_title(\"Mask\")\n",
    "\n",
    "ax[2].imshow(pred.squeeze())\n",
    "ax[2].set_title(\"Prediction\")\n",
    "\n",
    "plt.show()"
   ]
  },
  {
   "cell_type": "markdown",
   "metadata": {},
   "source": [
    "# Metrics"
   ]
  },
  {
   "cell_type": "code",
   "execution_count": null,
   "metadata": {},
   "outputs": [],
   "source": [
    "from src.models.metrics import Metrics\n",
    "\n",
    "artifact_path = os.path.abspath(os.path.join(os.getcwd(), \"../../artifacts/\"))\n",
    "\n",
    "num_classes = 4\n",
    "metrics = {\n",
    "    \"train\": Metrics(phase=\"train\", num_classes=num_classes, average=None, loss=False),\n",
    "    \"validation\": Metrics(phase=\"val\", num_classes=num_classes, average=None, loss=False),\n",
    "    \"test\": Metrics(phase=\"test\", num_classes=num_classes, average=None, loss=False)\n",
    "}\n",
    "\n",
    "# Load the data to split it and save it to a dict\n",
    "unet = UNet(num_classes=num_classes, experiment_name=\"test_experiments\", use_mlflow=False)\n",
    "unet.load_model(os.path.abspath(os.path.join(artifact_path, \"2025-02-19-15-28-50/models/best_model.pth\")))\n",
    "\n",
    "data_path = os.path.abspath(os.path.join(os.getcwd(), \"../../data/processed_4_classes/\"))\n",
    "\n",
    "coast_data = CoastData(data_path)\n",
    "split = coast_data.split_data()\n",
    "\n",
    "data = DataLoaderManager.load_data(split)\n",
    "\n",
    "for split in data:\n",
    "    print(f\"Split: {split}\")\n",
    "    for img_path, mask_path in zip(data[split][\"images\"], data[split][\"masks\"]):\n",
    "        pred = unet.predict_patch(img_path, combination=\"max\")\n",
    "        mask = cv2.imread(mask_path, cv2.IMREAD_GRAYSCALE)\n",
    "        mask = torch.from_numpy(mask).float() \n",
    "        metrics[split].update(mask, pred)\n",
    "        break\n",
    "\n",
    "    metrics[split].compute(epoch=0)\n",
    "    print(metrics[split].get_last_epoch_info())"
   ]
  },
  {
   "cell_type": "code",
   "execution_count": null,
   "metadata": {},
   "outputs": [],
   "source": []
  }
 ],
 "metadata": {
  "kernelspec": {
   "display_name": "visio",
   "language": "python",
   "name": "python3"
  },
  "language_info": {
   "codemirror_mode": {
    "name": "ipython",
    "version": 3
   },
   "file_extension": ".py",
   "mimetype": "text/x-python",
   "name": "python",
   "nbconvert_exporter": "python",
   "pygments_lexer": "ipython3",
   "version": "3.9.19"
  }
 },
 "nbformat": 4,
 "nbformat_minor": 4
}
