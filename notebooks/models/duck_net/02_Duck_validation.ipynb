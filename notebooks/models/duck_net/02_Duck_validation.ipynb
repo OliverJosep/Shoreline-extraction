{
 "cells": [
  {
   "cell_type": "code",
   "execution_count": null,
   "metadata": {},
   "outputs": [],
   "source": [
    "import sys\n",
    "import os\n",
    "import matplotlib.pyplot as plt\n",
    "import torch\n",
    "# Add the src directory to the path. TEMPORARY FIX\n",
    "sys.path.append(os.path.abspath(os.path.join(os.getcwd(), \"../../..\")))\n",
    "\n",
    "from models.duck_net.duck_net import DuckNet\n",
    "from src.models.data_management.cnn_formes import CNNFormes\n",
    "from src.data_processing.dataset_loader import CoastData\n",
    "from src.models.metrics import Metrics\n",
    "\n",
    "from src.models.data_management.data_loader import DataLoaderManager\n",
    "\n",
    "import cv2"
   ]
  },
  {
   "cell_type": "code",
   "execution_count": null,
   "metadata": {},
   "outputs": [],
   "source": [
    "artifact_path = os.path.abspath(os.path.join(os.getcwd(), \"../../../artifacts/\"))\n",
    "\n",
    "num_classes = 3\n",
    "margin = 10\n",
    "metrics = {\n",
    "    \"train\": Metrics(phase=\"train\", num_classes=num_classes, average=None, use_margin=False, margin = margin),\n",
    "    \"validation\": Metrics(phase=\"val\", num_classes=num_classes, average=None, use_margin=False, margin = margin),\n",
    "    \"test\": Metrics(phase=\"test\", num_classes=num_classes, average='micro', use_margin=True, margin = margin) # 'macro'\n",
    "}\n",
    "\n",
    "# Load the data to split it and save it to a dict\n",
    "duck = DuckNet(num_classes=3, experiment_name=\"test_experiments\", use_mlflow=False)\n",
    "\n",
    "duck.load_model(os.path.abspath(os.path.join(artifact_path, \"2025-03-02-16-06-29/models/best_model.pth\")))\n",
    "\n",
    "data_path = os.path.abspath(os.path.join(os.getcwd(), \"../../../data/processed_4_classes\"))\n",
    "\n",
    "coast_data = CoastData(data_path)\n",
    "split = coast_data.split_data()\n",
    "\n",
    "data = DataLoaderManager.load_data(split)"
   ]
  },
  {
   "cell_type": "code",
   "execution_count": null,
   "metadata": {},
   "outputs": [],
   "source": [
    "# for split in data:\n",
    "split = \"test\"\n",
    "print(f\"Split: {split}\")\n",
    "for img_path, mask_path in zip(data[split][\"images\"], data[split][\"masks\"]):\n",
    "    pred = duck.predict_patch(img_path, combination=\"max\")\n",
    "    mask = cv2.imread(mask_path, cv2.IMREAD_GRAYSCALE)\n",
    "    mask = torch.from_numpy(mask).float() \n",
    "    metrics[split].update_metrics(pred, mask)\n",
    "\n",
    "metrics[split].compute()\n",
    "print(metrics[split].get_last_epoch_info())"
   ]
  }
 ],
 "metadata": {
  "language_info": {
   "name": "python"
  }
 },
 "nbformat": 4,
 "nbformat_minor": 2
}
