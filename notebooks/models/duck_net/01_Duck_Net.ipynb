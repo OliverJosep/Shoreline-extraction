{
 "cells": [
  {
   "cell_type": "code",
   "execution_count": 1,
   "metadata": {},
   "outputs": [
    {
     "name": "stderr",
     "output_type": "stream",
     "text": [
      "/opt/conda/lib/python3.10/site-packages/albumentations/__init__.py:28: UserWarning: A new version of Albumentations is available: '2.0.5' (you have '2.0.4'). Upgrade using: pip install -U albumentations. To disable automatic update checks, set the environment variable NO_ALBUMENTATIONS_UPDATE to 1.\n",
      "  check_for_updates()\n"
     ]
    }
   ],
   "source": [
    "import sys\n",
    "import os\n",
    "import matplotlib.pyplot as plt\n",
    "\n",
    "# Add the src directory to the path. TEMPORARY FIX\n",
    "sys.path.append(os.path.abspath(os.path.join(os.getcwd(), \"../../..\")))\n",
    "\n",
    "from models.duck_net.duck_net import DuckNet\n",
    "from src.models.data_management.cnn_formes import CNNFormes\n",
    "from src.data_processing.dataset_loader import CoastData"
   ]
  },
  {
   "cell_type": "code",
   "execution_count": 4,
   "metadata": {},
   "outputs": [],
   "source": [
    "import torch\n",
    "torch.cuda.empty_cache()"
   ]
  },
  {
   "cell_type": "code",
   "execution_count": 3,
   "metadata": {},
   "outputs": [
    {
     "name": "stdout",
     "output_type": "stream",
     "text": [
      "torch.Size([4, 3, 352, 352])\n"
     ]
    }
   ],
   "source": [
    "import torch\n",
    "\n",
    "\n",
    "model = DuckNet(num_classes=3)\n",
    "dummy = torch.randn(4, 3, 352, 352)\n",
    "out = model.model(dummy)\n",
    "print(out.shape)"
   ]
  },
  {
   "cell_type": "markdown",
   "metadata": {},
   "source": []
  },
  {
   "cell_type": "code",
   "execution_count": 4,
   "metadata": {},
   "outputs": [
    {
     "name": "stdout",
     "output_type": "stream",
     "text": [
      "CoastData: arenaldentem - 40 images\n",
      "Coast: arenaldentem, Total size: 40\n"
     ]
    }
   ],
   "source": [
    "# Load the data to split it and save it to a dict\n",
    "path = os.path.abspath(os.path.join(os.getcwd(), \"../../../data/processed/\"))\n",
    "data = CoastData(data_path=path, name=\"arenaldentem\")\n",
    "\n",
    "data_split = data.split_data()"
   ]
  },
  {
   "cell_type": "code",
   "execution_count": 5,
   "metadata": {},
   "outputs": [],
   "source": [
    "model = DuckNet(num_classes=3, experiment_name=\"test_experiments\", use_mlflow=False)"
   ]
  },
  {
   "cell_type": "code",
   "execution_count": 6,
   "metadata": {},
   "outputs": [],
   "source": [
    "# Load the data to the model\n",
    "model = unet.load_data(data_split, CNNFormes)"
   ]
  },
  {
   "cell_type": "code",
   "execution_count": null,
   "metadata": {},
   "outputs": [],
   "source": [
    "artifact_path = os.path.abspath(os.path.join(path, \"../../../artifacts/\"))\n",
    "\n",
    "description = \"\"\n",
    "\n",
    "# Train the model\n",
    "model.train(epochs=1, artifact_path=artifact_path, run_description=description)"
   ]
  },
  {
   "cell_type": "markdown",
   "metadata": {},
   "source": [
    "---\n",
    "\n",
    "352x352"
   ]
  },
  {
   "cell_type": "code",
   "execution_count": 5,
   "metadata": {},
   "outputs": [],
   "source": [
    "path = os.path.abspath(os.path.join(os.getcwd(), \"../../../data/patchify_352x352/\"))\n",
    "model = DuckNet(num_classes=3, experiment_name=\"test_experiments\", use_mlflow=True)\n",
    "\n",
    "model.load_data(path, CNNFormes, batch_size=8)"
   ]
  },
  {
   "cell_type": "code",
   "execution_count": null,
   "metadata": {},
   "outputs": [
    {
     "name": "stdout",
     "output_type": "stream",
     "text": [
      "Creating folders for the artifacts at /srv/Shoreline-extraction/artifacts/2025-03-14-08-00-53_ducknet\n",
      "Epoch 1/100\n",
      "train metrics: \n",
      "\ttrain_loss: 0.6207479362465312\n",
      "\ttrain_accuracy: 0.9300389885902405\n",
      "\ttrain_f1_score: 0.9300389885902405\n",
      "\ttrain_precision: 0.9300381541252136\n",
      "\ttrain_recall: 0.9300389885902405\n",
      "\ttrain_confusion_matrix: tensor([[0.9944, 0.0025, 0.0031],\n",
      "        [0.0066, 0.8486, 0.1448],\n",
      "        [0.0109, 0.0854, 0.9037]])\n",
      "\n",
      "train metrics: \n",
      "\ttrain_loss: 0.600492907669483\n",
      "\ttrain_accuracy: 0.9502604603767395\n",
      "\ttrain_f1_score: 0.9502604603767395\n",
      "\ttrain_precision: 0.9502606391906738\n",
      "\ttrain_recall: 0.9502604603767395\n",
      "\ttrain_confusion_matrix: tensor([[9.9725e-01, 7.9878e-04, 1.9530e-03],\n",
      "        [2.7923e-03, 8.9022e-01, 1.0699e-01],\n",
      "        [5.0849e-03, 6.3266e-02, 9.3165e-01]])\n",
      "\n",
      "validation metrics: \n",
      "\tvalidation_loss: 0.599174517666528\n",
      "\tvalidation_accuracy: 0.9518824815750122\n",
      "\tvalidation_f1_score: 0.9518824815750122\n",
      "\tvalidation_precision: 0.9518822431564331\n",
      "\tvalidation_recall: 0.9518824815750122\n",
      "\tvalidation_confusion_matrix: tensor([[9.9802e-01, 1.5223e-04, 1.8311e-03],\n",
      "        [1.0742e-03, 9.3150e-01, 6.7425e-02],\n",
      "        [9.2346e-04, 1.0384e-01, 8.9523e-01]])\n",
      "\n",
      "Validation loss improved from 0.614681 to 0.599175. Saving the model. Early stopping counter: 0/10\n",
      "Epoch 3/100\n",
      "train metrics: \n",
      "\ttrain_loss: 0.5915077715222282\n",
      "\ttrain_accuracy: 0.9593707919120789\n",
      "\ttrain_f1_score: 0.9593707919120789\n",
      "\ttrain_precision: 0.9593705534934998\n",
      "\ttrain_recall: 0.9593707919120789\n",
      "\ttrain_confusion_matrix: tensor([[9.9857e-01, 5.0377e-04, 9.2210e-04],\n",
      "        [1.5929e-03, 9.0872e-01, 8.9684e-02],\n",
      "        [2.6552e-03, 5.2937e-02, 9.4441e-01]])\n",
      "\n",
      "validation metrics: \n",
      "\tvalidation_loss: 0.5866193363425929\n",
      "\tvalidation_accuracy: 0.9644625186920166\n",
      "\tvalidation_f1_score: 0.9644625186920166\n",
      "\tvalidation_precision: 0.9644622802734375\n",
      "\tvalidation_recall: 0.9644625186920166\n",
      "\tvalidation_confusion_matrix: tensor([[9.9970e-01, 9.8488e-05, 2.0325e-04],\n",
      "        [1.1176e-03, 9.1594e-01, 8.2939e-02],\n",
      "        [3.3249e-03, 4.1674e-02, 9.5500e-01]])\n",
      "\n",
      "Validation loss improved from 0.599175 to 0.586619. Saving the model. Early stopping counter: 0/10\n",
      "Epoch 4/100\n",
      "train metrics: \n",
      "\ttrain_loss: 0.5855015275552049\n",
      "\ttrain_accuracy: 0.9654004573822021\n",
      "\ttrain_f1_score: 0.9654004573822021\n",
      "\ttrain_precision: 0.9654013514518738\n",
      "\ttrain_recall: 0.9654004573822021\n",
      "\ttrain_confusion_matrix: tensor([[9.9881e-01, 4.5248e-04, 7.3997e-04],\n",
      "        [1.1758e-03, 9.2264e-01, 7.6182e-02],\n",
      "        [1.6200e-03, 4.6135e-02, 9.5224e-01]])\n",
      "\n",
      "validation metrics: \n",
      "\tvalidation_loss: 0.6466197612088754\n",
      "\tvalidation_accuracy: 0.9387943148612976\n",
      "\tvalidation_f1_score: 0.9387943148612976\n",
      "\tvalidation_precision: 0.9387943148612976\n",
      "\tvalidation_recall: 0.9387943148612976\n",
      "\tvalidation_confusion_matrix: tensor([[9.5337e-01, 4.6323e-02, 3.0832e-04],\n",
      "        [1.0399e-02, 9.2280e-01, 6.6801e-02],\n",
      "        [2.0808e-02, 4.8491e-02, 9.3070e-01]])\n",
      "\n",
      "Validation loss did not improve from 0.586619336342592889721458959684241563081741333, actual loss 0.646620. Early stopping counter: 0/10\n",
      "Epoch 5/100\n"
     ]
    }
   ],
   "source": [
    "artifact_path = os.path.abspath(os.path.join(path, \"../../artifacts/\"))\n",
    "\n",
    "description = \"DuckNet with patches of 352x352 and steps of 176. Normalization of the dataset: default of albumentations\"\n",
    "\n",
    "# Train the model\n",
    "model.train(epochs=100, artifact_path=artifact_path, run_name = \"ducknet\", run_description=description, early_stopping=10)"
   ]
  },
  {
   "cell_type": "code",
   "execution_count": null,
   "metadata": {},
   "outputs": [],
   "source": []
  }
 ],
 "metadata": {
  "kernelspec": {
   "display_name": "Python 3 (ipykernel)",
   "language": "python",
   "name": "python3"
  },
  "language_info": {
   "codemirror_mode": {
    "name": "ipython",
    "version": 3
   },
   "file_extension": ".py",
   "mimetype": "text/x-python",
   "name": "python",
   "nbconvert_exporter": "python",
   "pygments_lexer": "ipython3",
   "version": "3.10.13"
  }
 },
 "nbformat": 4,
 "nbformat_minor": 4
}
