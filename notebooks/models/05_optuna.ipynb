{
 "cells": [
  {
   "cell_type": "code",
   "execution_count": null,
   "metadata": {},
   "outputs": [],
   "source": [
    "import sys\n",
    "import os\n",
    "import matplotlib.pyplot as plt\n",
    "import numpy as np\n",
    "import torch\n",
    "\n",
    "# Add the src directory to the path. TEMPORARY FIX\n",
    "sys.path.append(os.path.abspath(os.path.join(os.getcwd(), \"../..\")))\n",
    "\n",
    "from src.models.OptunaOptimizer import OptunaOptimizer\n",
    "\n",
    "from models.unet.unet import UNet\n",
    "from src.data_processing.dataset_loader import CoastData\n",
    "from src.models.data_management.cnn_formes import CNNFormes"
   ]
  },
  {
   "cell_type": "code",
   "execution_count": null,
   "metadata": {},
   "outputs": [],
   "source": [
    "# Create your BaseModel instance\n",
    "unet = UNet(num_classes=3, experiment_name=\"test_optuna\", use_mlflow=True)\n",
    "\n",
    "path = os.path.abspath(os.path.join(os.getcwd(), \"../../data/processed/\"))\n",
    "data = CoastData(data_path=path, name=\"arenaldentem\")\n",
    "\n",
    "data_split = data.split_data()\n",
    "\n",
    "\n",
    "data = unet.load_data(data_split, CNNFormes)\n",
    "\n",
    "# Create the Optuna optimizer instance\n",
    "optuna_optimizer = OptunaOptimizer(base_model=unet)\n",
    "\n",
    "artifact_path = os.path.abspath(os.path.join(path, \"../../artifacts/\"))\n",
    "\n",
    "# Optimize the hyperparameters\n",
    "optuna_optimizer.optimize(n_trials=20, artifact_path=artifact_path)"
   ]
  }
 ],
 "metadata": {
  "kernelspec": {
   "display_name": "visio",
   "language": "python",
   "name": "python3"
  },
  "language_info": {
   "codemirror_mode": {
    "name": "ipython",
    "version": 3
   },
   "file_extension": ".py",
   "mimetype": "text/x-python",
   "name": "python",
   "nbconvert_exporter": "python",
   "pygments_lexer": "ipython3",
   "version": "3.9.19"
  }
 },
 "nbformat": 4,
 "nbformat_minor": 2
}
