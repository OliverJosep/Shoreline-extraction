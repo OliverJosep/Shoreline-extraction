{
 "cells": [
  {
   "cell_type": "code",
   "execution_count": null,
   "metadata": {},
   "outputs": [],
   "source": [
    "import sys\n",
    "import os\n",
    "import matplotlib.pyplot as plt\n",
    "\n",
    "# Add the src directory to the path. TEMPORARY FIX\n",
    "sys.path.append(os.path.abspath(os.path.join(os.getcwd(), \"../../..\")))\n",
    "\n",
    "from models.bilstm.bilstm import BiLSTM\n",
    "from src.models.data_management.bilstm_formes import BiLSTMFormesDataset\n",
    "from src.data_processing.dataset_loader import CoastData"
   ]
  },
  {
   "cell_type": "code",
   "execution_count": null,
   "metadata": {},
   "outputs": [],
   "source": [
    "# Test the BiLSTM model\n",
    "\n",
    "import torch\n",
    "\n",
    "model = BiLSTM(num_classes=1, hidden_units=45)\n",
    "dummy = torch.randn(300, 352, 3) # 300 is the batch size, 352 is the sequence length, 3 is the number of features\n",
    "out = model.model(dummy)\n",
    "print(out.shape)"
   ]
  },
  {
   "cell_type": "code",
   "execution_count": null,
   "metadata": {},
   "outputs": [],
   "source": [
    "data_path = os.path.abspath(os.path.join(os.getcwd(), \"../../../data/processed_bilstm_arenaldentem/\"))\n",
    "\n",
    "# Load the data, all the different stations\n",
    "data = CoastData(data_path, name=\"arenaldentem\")\n",
    "\n",
    "data_split = data.split_data()"
   ]
  },
  {
   "cell_type": "code",
   "execution_count": null,
   "metadata": {},
   "outputs": [],
   "source": [
    "model = BiLSTM(num_classes=1, hidden_units=45)\n",
    "\n",
    "# IMPORANT - The batch size must be 1 when using the BiLSTM model\n",
    "model.load_data(data_split, BiLSTMFormesDataset, batch_size=1)"
   ]
  },
  {
   "cell_type": "code",
   "execution_count": null,
   "metadata": {},
   "outputs": [],
   "source": [
    "for (input_image, target) in model.train_loader:\n",
    "    print(input_image.shape)\n",
    "    print(target.shape)\n",
    "    break"
   ]
  },
  {
   "cell_type": "code",
   "execution_count": null,
   "metadata": {},
   "outputs": [],
   "source": [
    "artifact_path = os.path.abspath(os.path.join(os.getcwd(), \"../../../artifacts/\"))\n",
    "\n",
    "description = \"\"\n",
    "\n",
    "# Train the model\n",
    "model.train(epochs=10, loss_function_name=\"CrossEntropy\", artifact_path=artifact_path, run_description=description, learning_rate=0.001)"
   ]
  },
  {
   "cell_type": "code",
   "execution_count": null,
   "metadata": {},
   "outputs": [],
   "source": []
  }
 ],
 "metadata": {
  "kernelspec": {
   "display_name": "visio",
   "language": "python",
   "name": "python3"
  },
  "language_info": {
   "codemirror_mode": {
    "name": "ipython",
    "version": 3
   },
   "file_extension": ".py",
   "mimetype": "text/x-python",
   "name": "python",
   "nbconvert_exporter": "python",
   "pygments_lexer": "ipython3",
   "version": "3.9.19"
  }
 },
 "nbformat": 4,
 "nbformat_minor": 2
}
