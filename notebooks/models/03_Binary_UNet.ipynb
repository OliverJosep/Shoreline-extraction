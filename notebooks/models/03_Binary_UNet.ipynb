{
 "cells": [
  {
   "cell_type": "code",
   "execution_count": null,
   "metadata": {},
   "outputs": [],
   "source": [
    "import sys\n",
    "import os\n",
    "import matplotlib.pyplot as plt\n",
    "\n",
    "# Add the src directory to the path. TEMPORARY FIX\n",
    "sys.path.append(os.path.abspath(os.path.join(os.getcwd(), \"../..\")))\n",
    "\n",
    "from models.unet.unet import UNet\n",
    "from models.unet.unet_formes import UNetFormes\n",
    "from src.data_processing.dataset_loader import CoastData"
   ]
  },
  {
   "cell_type": "code",
   "execution_count": null,
   "metadata": {},
   "outputs": [],
   "source": [
    "# Load the data to split it and save it to a dict\n",
    "path = os.path.abspath(os.path.join(os.getcwd(), \"../../data/patchify_shoreline/\"))\n",
    "# data = CoastData(data_path=path)\n",
    "\n",
    "# data_split = data.split_data()"
   ]
  },
  {
   "cell_type": "code",
   "execution_count": null,
   "metadata": {},
   "outputs": [],
   "source": [
    "unet = UNet(num_classes=1, experiment_name=\"test_experiments\", use_mlflow=False)"
   ]
  },
  {
   "cell_type": "code",
   "execution_count": null,
   "metadata": {},
   "outputs": [],
   "source": [
    "# Load the data to the model\n",
    "data = unet.load_data(path, UNetFormes)"
   ]
  },
  {
   "cell_type": "code",
   "execution_count": null,
   "metadata": {},
   "outputs": [],
   "source": [
    "# Total non-shoreline pixels:  1155193552\n",
    "# Total shoreline pixels:  4269360\n",
    "# Total pixels:  1159462912\n",
    "# Shoreline percentage:  0.3682187636890968\n",
    "\n",
    "total_pixels = 1159462912\n",
    "shoreline_pixels = 4269360\n",
    "\n",
    "# Calculate the class weight\n",
    "pos_weight = total_pixels / shoreline_pixels\n",
    "\n",
    "# Train the model\n",
    "unet.train(epochs=2, loss_function_name=\"BCEWithLogitsLoss\", pos_weight=pos_weight)"
   ]
  },
  {
   "cell_type": "code",
   "execution_count": null,
   "metadata": {},
   "outputs": [],
   "source": []
  }
 ],
 "metadata": {
  "kernelspec": {
   "display_name": "visio",
   "language": "python",
   "name": "python3"
  },
  "language_info": {
   "codemirror_mode": {
    "name": "ipython",
    "version": 3
   },
   "file_extension": ".py",
   "mimetype": "text/x-python",
   "name": "python",
   "nbconvert_exporter": "python",
   "pygments_lexer": "ipython3",
   "version": "3.9.19"
  }
 },
 "nbformat": 4,
 "nbformat_minor": 2
}
