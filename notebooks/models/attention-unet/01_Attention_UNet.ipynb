{
 "cells": [
  {
   "cell_type": "code",
   "execution_count": null,
   "metadata": {},
   "outputs": [],
   "source": [
    "import sys\n",
    "import os\n",
    "import matplotlib.pyplot as plt\n",
    "\n",
    "# Add the src directory to the path. TEMPORARY FIX\n",
    "sys.path.append(os.path.abspath(os.path.join(os.getcwd(), \"../../..\")))\n",
    "\n",
    "from models.attention_unet.attention_unet import Attention_UNet\n",
    "from src.models.data_management.cnn_formes import CNNFormes\n",
    "from src.data_processing.dataset_loader import CoastData"
   ]
  },
  {
   "cell_type": "code",
   "execution_count": 7,
   "metadata": {},
   "outputs": [
    {
     "name": "stdout",
     "output_type": "stream",
     "text": [
      "CoastData: arenaldentem - 40 images\n",
      "Coast: arenaldentem, Total size: 40\n"
     ]
    }
   ],
   "source": [
    "# Load the data to split it and save it to a dict\n",
    "path = os.path.abspath(os.path.join(os.getcwd(), \"../../../data/processed/\"))\n",
    "data = CoastData(data_path=path, name=\"arenaldentem\")\n",
    "\n",
    "data_split = data.split_data()"
   ]
  },
  {
   "cell_type": "code",
   "execution_count": 3,
   "metadata": {},
   "outputs": [],
   "source": [
    "unet = Attention_UNet(num_classes=3, experiment_name=\"test_experiments\", use_mlflow=False)"
   ]
  },
  {
   "cell_type": "code",
   "execution_count": null,
   "metadata": {},
   "outputs": [],
   "source": [
    "# Load the data to the model\n",
    "data = unet.load_data(data_split, CNNFormes)"
   ]
  },
  {
   "cell_type": "code",
   "execution_count": 8,
   "metadata": {},
   "outputs": [
    {
     "name": "stdout",
     "output_type": "stream",
     "text": [
      "Creating folders for the artifacts at /Users/josep/Documents/SOCIB/Shoreline-extraction/artifacts/2025-02-25-13-29-54\n",
      "Epoch 1/1\n",
      "train metrics: \n",
      "\ttrain_loss: 0.7865661717951298\n",
      "\ttrain_accuracy: 0.7584671974182129\n",
      "\ttrain_f1_score: 0.7780068516731262\n",
      "\ttrain_precision: 0.8038012385368347\n",
      "\ttrain_recall: 0.7584671974182129\n",
      "\ttrain_confusion_matrix: tensor([[ 50335.,  18336.,   1677.],\n",
      "        [  2521., 253415.,  29692.],\n",
      "        [  4204.,  29438.,  69134.]])\n",
      "\n",
      "validation metrics: \n",
      "\tvalidation_loss: 29.59371566772461\n",
      "\tvalidation_accuracy: 0.484650582075119\n",
      "\tvalidation_f1_score: 0.48364272713661194\n",
      "\tvalidation_precision: 0.4950437545776367\n",
      "\tvalidation_recall: 0.484650582075119\n",
      "\tvalidation_confusion_matrix: tensor([[ 9896.,  8980.,  1757.],\n",
      "        [10213., 62789.,  9452.],\n",
      "        [ 1507., 20522.,  5956.]])\n",
      "\n",
      "Validation loss improved from inf to 29.593716. Saving the model. Early stopping counter: 0/25\n"
     ]
    }
   ],
   "source": [
    "artifact_path = os.path.abspath(os.path.join(path, \"../../artifacts/\"))\n",
    "\n",
    "description = \"\"\n",
    "\n",
    "# Train the model\n",
    "unet.train(epochs=1, artifact_path=artifact_path, run_description=description)"
   ]
  },
  {
   "cell_type": "code",
   "execution_count": null,
   "metadata": {},
   "outputs": [],
   "source": []
  }
 ],
 "metadata": {
  "kernelspec": {
   "display_name": "visio",
   "language": "python",
   "name": "python3"
  },
  "language_info": {
   "codemirror_mode": {
    "name": "ipython",
    "version": 3
   },
   "file_extension": ".py",
   "mimetype": "text/x-python",
   "name": "python",
   "nbconvert_exporter": "python",
   "pygments_lexer": "ipython3",
   "version": "3.9.19"
  }
 },
 "nbformat": 4,
 "nbformat_minor": 2
}
