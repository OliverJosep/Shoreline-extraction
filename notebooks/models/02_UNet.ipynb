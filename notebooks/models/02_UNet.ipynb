{
 "cells": [
  {
   "cell_type": "code",
   "execution_count": 1,
   "metadata": {},
   "outputs": [
    {
     "name": "stderr",
     "output_type": "stream",
     "text": [
      "/opt/conda/lib/python3.10/site-packages/albumentations/__init__.py:28: UserWarning: A new version of Albumentations is available: '2.0.5' (you have '2.0.4'). Upgrade using: pip install -U albumentations. To disable automatic update checks, set the environment variable NO_ALBUMENTATIONS_UPDATE to 1.\n",
      "  check_for_updates()\n"
     ]
    }
   ],
   "source": [
    "import sys\n",
    "import os\n",
    "import matplotlib.pyplot as plt\n",
    "\n",
    "# Add the src directory to the path. TEMPORARY FIX\n",
    "sys.path.append(os.path.abspath(os.path.join(os.getcwd(), \"../..\")))\n",
    "\n",
    "from models.unet.unet import UNet\n",
    "from src.models.data_management.cnn_formes import CNNFormes\n",
    "from src.data_processing.dataset_loader import CoastData"
   ]
  },
  {
   "cell_type": "code",
   "execution_count": null,
   "metadata": {},
   "outputs": [],
   "source": [
    "# Load the data to split it and save it to a dict\n",
    "path = os.path.abspath(os.path.join(os.getcwd(), \"../../data/processed/\"))\n",
    "data = CoastData(data_path=path, name=\"arenaldentem\")\n",
    "\n",
    "data_split = data.split_data()"
   ]
  },
  {
   "cell_type": "code",
   "execution_count": null,
   "metadata": {},
   "outputs": [],
   "source": [
    "unet = UNet(num_classes=3, experiment_name=\"test_experiments\", use_mlflow=False)"
   ]
  },
  {
   "cell_type": "code",
   "execution_count": null,
   "metadata": {},
   "outputs": [],
   "source": [
    "# Load the data to the model\n",
    "data = unet.load_data(data_split, CNNFormes)"
   ]
  },
  {
   "cell_type": "code",
   "execution_count": null,
   "metadata": {},
   "outputs": [],
   "source": [
    "artifact_path = os.path.abspath(os.path.join(path, \"../../artifacts/\"))\n",
    "\n",
    "description = \"\"\n",
    "\n",
    "# Train the model\n",
    "unet.train(epochs=2, artifact_path=artifact_path, run_description=description)"
   ]
  },
  {
   "cell_type": "markdown",
   "metadata": {},
   "source": [
    "## UNet validation"
   ]
  },
  {
   "cell_type": "code",
   "execution_count": 13,
   "metadata": {},
   "outputs": [],
   "source": [
    "from src.models.metrics import Metrics\n",
    "from src.models.data_management.data_loader import DataLoaderManager\n",
    "\n",
    "import cv2\n",
    "\n",
    "import torch"
   ]
  },
  {
   "cell_type": "code",
   "execution_count": 14,
   "metadata": {},
   "outputs": [
    {
     "name": "stdout",
     "output_type": "stream",
     "text": [
      "CoastData: global - 1717 images\n",
      "Coast: agrelo, Total size: 244\n",
      "Coast: arenaldentem, Total size: 40\n",
      "Coast: cadiz, Total size: 946\n",
      "Coast: cies, Total size: 430\n",
      "Coast: samarador, Total size: 57\n"
     ]
    }
   ],
   "source": [
    "artifact_path = os.path.abspath(os.path.join(os.getcwd(), \"../../artifacts/\"))\n",
    "\n",
    "num_classes = 3\n",
    "metrics = {\n",
    "    \"train\": Metrics(phase=\"train\", num_classes=num_classes, average=None, use_margin=False),\n",
    "    \"validation\": Metrics(phase=\"val\", num_classes=num_classes, average=None, use_margin=False),\n",
    "    \"test\": Metrics(phase=\"test\", num_classes=num_classes, average=None, use_margin=False) # 'macro'\n",
    "}\n",
    "\n",
    "# Load the data to split it and save it to a dict\n",
    "model = UNet(num_classes=3, experiment_name=\"test_experiments\", use_mlflow=False)\n",
    "\n",
    "model.load_model(os.path.abspath(os.path.join(artifact_path, \"unet/models/best_model.pth\")))\n",
    "# 256x256 -> 2025-03-02-16-06-29\n",
    "# 352x352 -> 2025-03-14-08-00-53_ducknet\n",
    "\n",
    "data_path = os.path.abspath(os.path.join(os.getcwd(), \"../../data/processed/\"))\n",
    "\n",
    "coast_data = CoastData(data_path)\n",
    "split = coast_data.split_data()\n",
    "\n",
    "data = DataLoaderManager.load_data(split)"
   ]
  },
  {
   "cell_type": "code",
   "execution_count": 15,
   "metadata": {},
   "outputs": [
    {
     "name": "stdout",
     "output_type": "stream",
     "text": [
      "Split: train\n"
     ]
    },
    {
     "name": "stderr",
     "output_type": "stream",
     "text": [
      "/opt/conda/lib/python3.10/site-packages/torcheval/metrics/functional/classification/accuracy.py:275: UserWarning: The reduce argument of torch.scatter with Tensor src is deprecated and will be removed in a future PyTorch release. Use torch.scatter_reduce instead for more reduction options. (Triggered internally at /opt/conda/conda-bld/pytorch_1695392020201/work/aten/src/ATen/native/TensorAdvancedIndexing.cpp:230.)\n",
      "  num_correct = mask.new_zeros(num_classes).scatter_(0, target, mask, reduce=\"add\")\n"
     ]
    },
    {
     "name": "stdout",
     "output_type": "stream",
     "text": [
      "train metrics: \n",
      "\ttrain_accuracy: tensor([1.0000, 0.2753, 0.3915])\n",
      "\ttrain_f1_score: tensor([0.5453, 0.4282, 0.5420])\n",
      "\ttrain_precision: tensor([0.3748, 0.9640, 0.8805])\n",
      "\ttrain_recall: tensor([1.0000, 0.2753, 0.3915])\n",
      "\ttrain_confusion_matrix: \n",
      "\t\t1.0000 0.0000 0.0000\n",
      "\t\t0.6725 0.2753 0.0523\n",
      "\t\t0.5980 0.0105 0.3915\n",
      "\n",
      "Split: validation\n",
      "val metrics: \n",
      "\tval_accuracy: tensor([1.0000, 0.2691, 0.3602])\n",
      "\tval_f1_score: tensor([0.5345, 0.4211, 0.5099])\n",
      "\tval_precision: tensor([0.3647, 0.9673, 0.8728])\n",
      "\tval_recall: tensor([1.0000, 0.2691, 0.3602])\n",
      "\tval_confusion_matrix: \n",
      "\t\t1.0000 0.0000 0.0000\n",
      "\t\t0.6796 0.2691 0.0513\n",
      "\t\t0.6305 0.0093 0.3602\n",
      "\n",
      "Split: test\n",
      "test metrics: \n",
      "\ttest_accuracy: tensor([1.0000, 0.2528, 0.3663])\n",
      "\ttest_f1_score: tensor([0.5301, 0.3997, 0.5136])\n",
      "\ttest_precision: tensor([0.3606, 0.9531, 0.8591])\n",
      "\ttest_recall: tensor([1.0000, 0.2528, 0.3663])\n",
      "\ttest_confusion_matrix: \n",
      "\t\t1.0000 0.0000 0.0000\n",
      "\t\t0.6889 0.2528 0.0583\n",
      "\t\t0.6209 0.0128 0.3663\n",
      "\n"
     ]
    }
   ],
   "source": [
    "for split in data:\n",
    "    print(f\"Split: {split}\")\n",
    "    for img_path, mask_path in zip(data[split][\"images\"], data[split][\"masks\"]):\n",
    "        pred = model.predict_patch(img_path, combination=\"max\", patch_size = 256, stride = 128)\n",
    "        mask = cv2.imread(mask_path, cv2.IMREAD_GRAYSCALE)\n",
    "        mask = torch.from_numpy(mask).float() \n",
    "        metrics[split].update_metrics(pred, mask)\n",
    "\n",
    "    metrics[split].compute()\n",
    "    print(metrics[split].get_last_epoch_info())"
   ]
  },
  {
   "cell_type": "code",
   "execution_count": null,
   "metadata": {},
   "outputs": [],
   "source": []
  }
 ],
 "metadata": {
  "kernelspec": {
   "display_name": "Python 3 (ipykernel)",
   "language": "python",
   "name": "python3"
  },
  "language_info": {
   "codemirror_mode": {
    "name": "ipython",
    "version": 3
   },
   "file_extension": ".py",
   "mimetype": "text/x-python",
   "name": "python",
   "nbconvert_exporter": "python",
   "pygments_lexer": "ipython3",
   "version": "3.10.13"
  }
 },
 "nbformat": 4,
 "nbformat_minor": 4
}
