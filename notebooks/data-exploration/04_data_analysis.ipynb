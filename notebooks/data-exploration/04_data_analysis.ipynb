{
 "cells": [
  {
   "cell_type": "code",
   "execution_count": 1,
   "metadata": {},
   "outputs": [],
   "source": [
    "import sys\n",
    "import os\n",
    "import cv2\n",
    "import numpy as np\n",
    "\n",
    "import matplotlib.pyplot as plt\n",
    "\n",
    "# Add the src directory to the path. TEMPORARY FIX\n",
    "sys.path.append(os.path.abspath(os.path.join(os.getcwd(), \"../..\")))\n",
    "\n",
    "from src.models.data_management.data_loader import DataLoaderManager"
   ]
  },
  {
   "cell_type": "code",
   "execution_count": 13,
   "metadata": {},
   "outputs": [
    {
     "name": "stdout",
     "output_type": "stream",
     "text": [
      "12389\n"
     ]
    }
   ],
   "source": [
    "data_path = os.path.abspath(os.path.join(os.getcwd(), \"../../data/patchify_shoreline/\"))\n",
    "data_loader = DataLoaderManager().load_data(data_path)\n",
    "print(len(data_loader['train']['images']))"
   ]
  },
  {
   "cell_type": "code",
   "execution_count": 22,
   "metadata": {},
   "outputs": [
    {
     "name": "stdout",
     "output_type": "stream",
     "text": [
      "Subset: train\n",
      "Subset: validation\n",
      "Subset: test\n",
      "{0: 1155193552, 1: 4269360}\n"
     ]
    }
   ],
   "source": [
    "subsets = [\"train\", \"validation\", \"test\"]\n",
    "\n",
    "labels = {}\n",
    "\n",
    "for subset in subsets:\n",
    "    print(f\"Subset: {subset}\")\n",
    "    images = data_loader[subset][\"images\"]\n",
    "    masks = data_loader[subset][\"masks\"]\n",
    "\n",
    "    for i in range(len(images)):\n",
    "        image = cv2.imread(images[i])\n",
    "        mask = cv2.imread(masks[i], cv2.IMREAD_GRAYSCALE)\n",
    "\n",
    "        unique, counts = np.unique(mask, return_counts=True)\n",
    "\n",
    "        for u, c in zip(unique, counts):\n",
    "            if u not in labels:\n",
    "                labels[u] = 0\n",
    "            labels[u] += c\n",
    "\n",
    "print(labels)"
   ]
  },
  {
   "cell_type": "code",
   "execution_count": 26,
   "metadata": {},
   "outputs": [
    {
     "name": "stdout",
     "output_type": "stream",
     "text": [
      "Total non-shoreline pixels:  1155193552\n",
      "Total shoreline pixels:  4269360\n",
      "Total pixels:  1159462912\n",
      "Shoreline percentage:  0.3682187636890968\n"
     ]
    }
   ],
   "source": [
    "total_pixels = sum(labels.values())\n",
    "print(\"Total non-shoreline pixels: \", labels[0])\n",
    "print(\"Total shoreline pixels: \", labels[1])\n",
    "print(\"Total pixels: \", total_pixels)\n",
    "\n",
    "print(\"Shoreline percentage: \", labels[1] / total_pixels * 100)"
   ]
  },
  {
   "cell_type": "code",
   "execution_count": null,
   "metadata": {},
   "outputs": [],
   "source": []
  },
  {
   "cell_type": "markdown",
   "metadata": {},
   "source": [
    "# 4 Classes\n",
    "\n",
    "- 0 = Not classified\n",
    "- 1 = Land\n",
    "- 2 = Sea\n",
    "- 3 = Shoreline"
   ]
  },
  {
   "cell_type": "code",
   "execution_count": 3,
   "metadata": {},
   "outputs": [
    {
     "name": "stdout",
     "output_type": "stream",
     "text": [
      "21352\n"
     ]
    }
   ],
   "source": [
    "data_path = os.path.abspath(os.path.join(os.getcwd(), \"../../data/patchify_4_classes/\"))\n",
    "data_loader = DataLoaderManager().load_data(data_path)\n",
    "print(len(data_loader['train']['images']))"
   ]
  },
  {
   "cell_type": "code",
   "execution_count": 5,
   "metadata": {},
   "outputs": [
    {
     "name": "stdout",
     "output_type": "stream",
     "text": [
      "Subset: train\n",
      "Subset: validation\n",
      "Subset: test\n",
      "Not classified: 844268873\n",
      "Land: 622764355\n",
      "Sea: 527712804\n",
      "Shoreline: 3053392\n"
     ]
    }
   ],
   "source": [
    "subsets = [\"train\", \"validation\", \"test\"]\n",
    "LABELS = {0: 'Not classified', 1: 'Land', 2: 'Sea', 3: 'Shoreline'}\n",
    "labels = {}\n",
    "\n",
    "for subset in subsets:\n",
    "    print(f\"Subset: {subset}\")\n",
    "    images = data_loader[subset][\"images\"]\n",
    "    masks = data_loader[subset][\"masks\"]\n",
    "\n",
    "    for i in range(len(images)):\n",
    "        image = cv2.imread(images[i])\n",
    "        mask = cv2.imread(masks[i], cv2.IMREAD_GRAYSCALE)\n",
    "\n",
    "        unique, counts = np.unique(mask, return_counts=True)\n",
    "\n",
    "        for u, c in zip(unique, counts):\n",
    "            if u not in labels:\n",
    "                labels[u] = 0\n",
    "            labels[u] += c\n",
    "            \n",
    "for k, v in labels.items():\n",
    "    print(f\"{LABELS[k]}: {v}\")"
   ]
  },
  {
   "cell_type": "code",
   "execution_count": 12,
   "metadata": {},
   "outputs": [
    {
     "name": "stdout",
     "output_type": "stream",
     "text": [
      "Total pixels:  1997799424\n",
      "\n",
      "Not classified percentage: 42.260%\n",
      "Land percentage: 31.173%\n",
      "Sea percentage: 26.415%\n",
      "Shoreline percentage: 0.153%\n"
     ]
    }
   ],
   "source": [
    "total_pixels = sum(labels.values())\n",
    "print(\"Total pixels: \", total_pixels)\n",
    "print(\"\")\n",
    "print(f\"Not classified percentage: {labels[0] / total_pixels * 100:.3f}%\")\n",
    "print(f\"Land percentage: {labels[1] / total_pixels * 100:.3f}%\")\n",
    "print(f\"Sea percentage: {labels[2] / total_pixels * 100:.3f}%\")\n",
    "print(f\"Shoreline percentage: {labels[3] / total_pixels * 100:.3f}%\")\n"
   ]
  },
  {
   "cell_type": "markdown",
   "metadata": {},
   "source": [
    "---\n",
    "\n",
    "## Patchify reclect"
   ]
  },
  {
   "cell_type": "code",
   "execution_count": 16,
   "metadata": {},
   "outputs": [
    {
     "name": "stdout",
     "output_type": "stream",
     "text": [
      "25263\n",
      "Subset: train\n",
      "Subset: validation\n",
      "Subset: test\n",
      "Not classified: 544889699\n",
      "Land: 884160498\n",
      "Sea: 931962292\n",
      "Shoreline: 4902647\n"
     ]
    }
   ],
   "source": [
    "data_path = os.path.abspath(os.path.join(os.getcwd(), \"../../data/patchify_reflect/\"))\n",
    "data_loader = DataLoaderManager().load_data(data_path)\n",
    "print(len(data_loader['train']['images']))\n",
    "\n",
    "subsets = [\"train\", \"validation\", \"test\"]\n",
    "LABELS = {0: 'Not classified', 1: 'Land', 2: 'Sea', 3: 'Shoreline'}\n",
    "labels = {}\n",
    "\n",
    "for subset in subsets:\n",
    "    print(f\"Subset: {subset}\")\n",
    "    images = data_loader[subset][\"images\"]\n",
    "    masks = data_loader[subset][\"masks\"]\n",
    "\n",
    "    for i in range(len(images)):\n",
    "        image = cv2.imread(images[i])\n",
    "        mask = cv2.imread(masks[i], cv2.IMREAD_GRAYSCALE)\n",
    "\n",
    "        unique, counts = np.unique(mask, return_counts=True)\n",
    "\n",
    "        for u, c in zip(unique, counts):\n",
    "            if u not in labels:\n",
    "                labels[u] = 0\n",
    "            labels[u] += c\n",
    "            \n",
    "for k, v in labels.items():\n",
    "    print(f\"{LABELS[k]}: {v}\")"
   ]
  },
  {
   "cell_type": "code",
   "execution_count": 18,
   "metadata": {},
   "outputs": [
    {
     "name": "stdout",
     "output_type": "stream",
     "text": [
      "Total pixels:  2365915136\n",
      "\n",
      "Not classified percentage: 23.031%\n",
      "Land percentage: 37.371%\n",
      "Sea percentage: 39.391%\n"
     ]
    }
   ],
   "source": [
    "total_pixels = sum(labels.values())\n",
    "print(\"Total pixels: \", total_pixels)\n",
    "print(\"\")\n",
    "print(f\"Not classified percentage: {labels[0] / total_pixels * 100:.3f}%\")\n",
    "print(f\"Land percentage: {labels[1] / total_pixels * 100:.3f}%\")\n",
    "print(f\"Sea percentage: {labels[2] / total_pixels * 100:.3f}%\")\n",
    "# print(f\"Shoreline percentage: {labels[3] / total_pixels * 100:.3f}%\")\n"
   ]
  },
  {
   "cell_type": "code",
   "execution_count": null,
   "metadata": {},
   "outputs": [],
   "source": []
  }
 ],
 "metadata": {
  "kernelspec": {
   "display_name": "visio",
   "language": "python",
   "name": "python3"
  },
  "language_info": {
   "codemirror_mode": {
    "name": "ipython",
    "version": 3
   },
   "file_extension": ".py",
   "mimetype": "text/x-python",
   "name": "python",
   "nbconvert_exporter": "python",
   "pygments_lexer": "ipython3",
   "version": "3.9.19"
  }
 },
 "nbformat": 4,
 "nbformat_minor": 2
}
