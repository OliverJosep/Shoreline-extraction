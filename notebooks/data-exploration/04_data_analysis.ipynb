{
 "cells": [
  {
   "cell_type": "code",
   "execution_count": null,
   "metadata": {},
   "outputs": [],
   "source": [
    "import sys\n",
    "import os\n",
    "import cv2\n",
    "import numpy as np\n",
    "\n",
    "import matplotlib.pyplot as plt\n",
    "\n",
    "# Add the src directory to the path. TEMPORARY FIX\n",
    "sys.path.append(os.path.abspath(os.path.join(os.getcwd(), \"../..\")))\n",
    "\n",
    "from src.models.data_management.data_loader import DataLoaderManager"
   ]
  },
  {
   "cell_type": "code",
   "execution_count": 13,
   "metadata": {},
   "outputs": [
    {
     "name": "stdout",
     "output_type": "stream",
     "text": [
      "12389\n"
     ]
    }
   ],
   "source": [
    "data_path = os.path.abspath(os.path.join(os.getcwd(), \"../../data/patchify_shoreline/\"))\n",
    "data_loader = DataLoaderManager().load_data(data_path)\n",
    "print(len(data_loader['train']['images']))"
   ]
  },
  {
   "cell_type": "code",
   "execution_count": 22,
   "metadata": {},
   "outputs": [
    {
     "name": "stdout",
     "output_type": "stream",
     "text": [
      "Subset: train\n",
      "Subset: validation\n",
      "Subset: test\n",
      "{0: 1155193552, 1: 4269360}\n"
     ]
    }
   ],
   "source": [
    "subsets = [\"train\", \"validation\", \"test\"]\n",
    "\n",
    "labels = {}\n",
    "\n",
    "for subset in subsets:\n",
    "    print(f\"Subset: {subset}\")\n",
    "    images = data_loader[subset][\"images\"]\n",
    "    masks = data_loader[subset][\"masks\"]\n",
    "\n",
    "    for i in range(len(images)):\n",
    "        image = cv2.imread(images[i])\n",
    "        mask = cv2.imread(masks[i], cv2.IMREAD_GRAYSCALE)\n",
    "\n",
    "        unique, counts = np.unique(mask, return_counts=True)\n",
    "\n",
    "        for u, c in zip(unique, counts):\n",
    "            if u not in labels:\n",
    "                labels[u] = 0\n",
    "            labels[u] += c\n",
    "\n",
    "print(labels)"
   ]
  },
  {
   "cell_type": "code",
   "execution_count": 26,
   "metadata": {},
   "outputs": [
    {
     "name": "stdout",
     "output_type": "stream",
     "text": [
      "Total non-shoreline pixels:  1155193552\n",
      "Total shoreline pixels:  4269360\n",
      "Total pixels:  1159462912\n",
      "Shoreline percentage:  0.3682187636890968\n"
     ]
    }
   ],
   "source": [
    "total_pixels = sum(labels.values())\n",
    "print(\"Total non-shoreline pixels: \", labels[0])\n",
    "print(\"Total shoreline pixels: \", labels[1])\n",
    "print(\"Total pixels: \", total_pixels)\n",
    "\n",
    "print(\"Shoreline percentage: \", labels[1] / total_pixels * 100)"
   ]
  },
  {
   "cell_type": "code",
   "execution_count": null,
   "metadata": {},
   "outputs": [],
   "source": []
  },
  {
   "cell_type": "code",
   "execution_count": null,
   "metadata": {},
   "outputs": [],
   "source": []
  }
 ],
 "metadata": {
  "kernelspec": {
   "display_name": "visio",
   "language": "python",
   "name": "python3"
  },
  "language_info": {
   "codemirror_mode": {
    "name": "ipython",
    "version": 3
   },
   "file_extension": ".py",
   "mimetype": "text/x-python",
   "name": "python",
   "nbconvert_exporter": "python",
   "pygments_lexer": "ipython3",
   "version": "3.9.19"
  }
 },
 "nbformat": 4,
 "nbformat_minor": 2
}
