{
 "cells": [
  {
   "cell_type": "code",
   "execution_count": 5,
   "metadata": {},
   "outputs": [],
   "source": [
    "import os\n",
    "import sys\n",
    "import torch\n",
    "import numpy as np\n",
    "import cv2\n",
    "from typing import List\n",
    "\n",
    "\n",
    "sys.path.append(os.path.abspath(os.path.join(os.getcwd(), \"../..\")))\n",
    "\n",
    "from src.data_processing.dataset_loader import CoastData"
   ]
  },
  {
   "cell_type": "code",
   "execution_count": 12,
   "metadata": {},
   "outputs": [],
   "source": [
    "def calculate_mean_std(image_paths: List[str]):\n",
    "    \"\"\"\n",
    "    Computes the mean and standard deviation of a dataset.\n",
    "\n",
    "    Parameters:\n",
    "        image_paths (List[str]): List of image file paths.\n",
    "\n",
    "    Returns:\n",
    "        Tuple[Tuple[float, float, float], Tuple[float, float, float]]: Mean and standard deviation for each channel.\n",
    "    \"\"\"\n",
    "    sum_rgb = torch.zeros(3)\n",
    "    sum_rgb_sq = torch.zeros(3)\n",
    "    num_pixels = 0\n",
    "\n",
    "    for path in image_paths:\n",
    "        # Load image\n",
    "        img = cv2.imread(path['image'])\n",
    "        img = cv2.cvtColor(img, cv2.COLOR_BGR2RGB)  # Convert BGR to RGB\n",
    "        img = img / 255.0  # Normalize to [0,1]\n",
    "        \n",
    "        img_tensor = torch.tensor(img, dtype=torch.float32)\n",
    "        \n",
    "        # Sum per channel\n",
    "        sum_rgb += img_tensor.mean(dim=(0, 1))\n",
    "        sum_rgb_sq += (img_tensor ** 2).mean(dim=(0, 1))\n",
    "        num_pixels += 1\n",
    "\n",
    "    # Compute mean and std\n",
    "    mean = sum_rgb / num_pixels\n",
    "    std = torch.sqrt(sum_rgb_sq / num_pixels - mean ** 2)\n",
    "\n",
    "    return mean.tolist(), std.tolist()"
   ]
  },
  {
   "cell_type": "code",
   "execution_count": 14,
   "metadata": {},
   "outputs": [
    {
     "name": "stdout",
     "output_type": "stream",
     "text": [
      "CoastData: global - 1717 images\n",
      "Mean: [0.4288156032562256, 0.45132672786712646, 0.4600674510002136]\n",
      "Std: [0.31724053621292114, 0.3093735873699188, 0.31197479367256165]\n"
     ]
    }
   ],
   "source": [
    "data_path = os.path.abspath(os.path.join(os.getcwd(), \"../../data/processed/\"))\n",
    "\n",
    "# Load the data, all the different stations\n",
    "data = CoastData(data_path)\n",
    "\n",
    "\n",
    "filtered_data = data.get_images_and_masks() \n",
    "\n",
    "\n",
    "mean, std = calculate_mean_std(filtered_data)\n",
    "print(\"Mean:\", mean)\n",
    "print(\"Std:\", std)"
   ]
  },
  {
   "cell_type": "code",
   "execution_count": null,
   "metadata": {},
   "outputs": [],
   "source": []
  }
 ],
 "metadata": {
  "kernelspec": {
   "display_name": "visio",
   "language": "python",
   "name": "python3"
  },
  "language_info": {
   "codemirror_mode": {
    "name": "ipython",
    "version": 3
   },
   "file_extension": ".py",
   "mimetype": "text/x-python",
   "name": "python",
   "nbconvert_exporter": "python",
   "pygments_lexer": "ipython3",
   "version": "3.9.19"
  }
 },
 "nbformat": 4,
 "nbformat_minor": 2
}
