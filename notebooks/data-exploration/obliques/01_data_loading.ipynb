{
 "cells": [
  {
   "cell_type": "code",
   "execution_count": 1,
   "metadata": {},
   "outputs": [],
   "source": [
    "import sys\n",
    "import os\n",
    "import matplotlib.pyplot as plt\n",
    "\n",
    "# Add the src directory to the path. TEMPORARY FIX\n",
    "sys.path.append(os.path.abspath(os.path.join(os.getcwd(), \"../../..\")))\n",
    "\n",
    "from src.data_processing.dataset_loader import CoastData"
   ]
  },
  {
   "cell_type": "markdown",
   "metadata": {},
   "source": [
    "## Load the data"
   ]
  },
  {
   "cell_type": "code",
   "execution_count": 3,
   "metadata": {},
   "outputs": [
    {
     "name": "stdout",
     "output_type": "stream",
     "text": [
      "CoastData: agrelo - 244 images\n",
      "CoastData: global - 1717 images\n"
     ]
    }
   ],
   "source": [
    "data_path = os.path.abspath(os.path.join(os.getcwd(), \"../../../data/SCLabels_oblique_v1.0.0/\"))\n",
    "\n",
    "# Test with a single station. Differents stations: agrelo, cies, cadiz, samarador, arenaldentem\n",
    "data = CoastData(data_path, name=\"agrelo\")\n",
    "\n",
    "# Load the data, all the different stations\n",
    "data = CoastData(data_path)"
   ]
  },
  {
   "cell_type": "code",
   "execution_count": 4,
   "metadata": {},
   "outputs": [
    {
     "name": "stdout",
     "output_type": "stream",
     "text": [
      "['agrelo', 'arenaldentem', 'cadiz', 'cies', 'samarador']\n"
     ]
    }
   ],
   "source": [
    "# Get the names of the different stations\n",
    "station_names = data.get_station_names()\n",
    "print(station_names)"
   ]
  },
  {
   "cell_type": "markdown",
   "metadata": {},
   "source": [
    "### Get the data from CoastData"
   ]
  },
  {
   "cell_type": "code",
   "execution_count": 5,
   "metadata": {},
   "outputs": [
    {
     "name": "stdout",
     "output_type": "stream",
     "text": [
      "1548260289.Wed.Jan.23_17_18_09.CET.2019.agrelo.image.jpg\n"
     ]
    }
   ],
   "source": [
    "image_metadata = data[0]\n",
    "print(image_metadata['image']['filename'])"
   ]
  },
  {
   "cell_type": "code",
   "execution_count": 4,
   "metadata": {},
   "outputs": [
    {
     "name": "stdout",
     "output_type": "stream",
     "text": [
      "1548260289.Wed.Jan.23_17_18_09.CET.2019.agrelo.image.jpg\n"
     ]
    }
   ],
   "source": [
    "image_metadata = data[0]\n",
    "print(image_metadata['image']['filename'])"
   ]
  },
  {
   "cell_type": "code",
   "execution_count": 6,
   "metadata": {},
   "outputs": [
    {
     "name": "stdout",
     "output_type": "stream",
     "text": [
      "{'image': 'c:\\\\Users\\\\josep\\\\Documents\\\\SOCIB\\\\Shoreline-extraction\\\\data\\\\SCLabels_oblique_v1.0.0\\\\images\\\\1548260289.Wed.Jan.23_17_18_09.CET.2019.agrelo.image.jpg', 'mask': 'c:\\\\Users\\\\josep\\\\Documents\\\\SOCIB\\\\Shoreline-extraction\\\\data\\\\SCLabels_oblique_v1.0.0\\\\masks\\\\1548260289.Wed.Jan.23_17_18_09.CET.2019.agrelo.mask.png'}\n",
      "{'image': 'c:\\\\Users\\\\josep\\\\Documents\\\\SOCIB\\\\Shoreline-extraction\\\\data\\\\SCLabels_oblique_v1.0.0\\\\images\\\\1602845999.Fri.Oct.16_11_59_59.CET.2020.cadiz.image.jpg', 'mask': 'c:\\\\Users\\\\josep\\\\Documents\\\\SOCIB\\\\Shoreline-extraction\\\\data\\\\SCLabels_oblique_v1.0.0\\\\masks\\\\1602845999.Fri.Oct.16_11_59_59.CET.2020.cadiz.mask.png'}\n"
     ]
    }
   ],
   "source": [
    "# We can get the data by station name or in a global way (only the images and the masks)\n",
    "filtered_data = data.get_images_and_masks() # All the data\n",
    "print(filtered_data[0])\n",
    "\n",
    "# We can also get the data by station name\n",
    "filtered_data = data.get_images_and_masks(\"cadiz\")\n",
    "print(filtered_data[0])"
   ]
  },
  {
   "cell_type": "code",
   "execution_count": 5,
   "metadata": {},
   "outputs": [
    {
     "name": "stdout",
     "output_type": "stream",
     "text": [
      "{'image': '/Users/josep/Documents/SOCIB/Shoreline-extraction/data/raw/SCLabels_v1.0.0/images/1548260289.Wed.Jan.23_17_18_09.CET.2019.agrelo.image.jpg', 'mask': '/Users/josep/Documents/SOCIB/Shoreline-extraction/data/raw/SCLabels_v1.0.0/masks/1548260289.Wed.Jan.23_17_18_09.CET.2019.agrelo.mask.png'}\n",
      "{'image': '/Users/josep/Documents/SOCIB/Shoreline-extraction/data/raw/SCLabels_v1.0.0/images/1602845999.Fri.Oct.16_11_59_59.CET.2020.cadiz.image.jpg', 'mask': '/Users/josep/Documents/SOCIB/Shoreline-extraction/data/raw/SCLabels_v1.0.0/masks/1602845999.Fri.Oct.16_11_59_59.CET.2020.cadiz.mask.png'}\n"
     ]
    }
   ],
   "source": [
    "# We can get the data by station name or in a global way (only the images and the masks)\n",
    "filtered_data = data.get_images_and_masks() # All the data\n",
    "print(filtered_data[0])\n",
    "\n",
    "# We can also get the data by station name\n",
    "filtered_data = data.get_images_and_masks(\"cadiz\")\n",
    "print(filtered_data[0])"
   ]
  },
  {
   "cell_type": "markdown",
   "metadata": {},
   "source": [
    "#### Plot the images and the masks"
   ]
  },
  {
   "cell_type": "code",
   "execution_count": 11,
   "metadata": {},
   "outputs": [
    {
     "data": {
      "image/png": "[encoded data removed]",
      "text/plain": [
       "<Figure size 640x480 with 2 Axes>"
      ]
     },
     "metadata": {},
     "output_type": "display_data"
    }
   ],
   "source": [
    "fig, ax = plt.subplots(1, 2)\n",
    "img_path = filtered_data[0]['image']\n",
    "mask_path = filtered_data[0]['mask']\n",
    "\n",
    "ax[0].imshow(plt.imread(img_path))\n",
    "ax[1].imshow(plt.imread(mask_path))\n",
    "\n",
    "plt.show()"
   ]
  },
  {
   "cell_type": "markdown",
   "metadata": {},
   "source": [
    "## Split data"
   ]
  },
  {
   "cell_type": "code",
   "execution_count": 12,
   "metadata": {},
   "outputs": [
    {
     "name": "stdout",
     "output_type": "stream",
     "text": [
      "Coast: agrelo, Total size: 244\n",
      "Coast: arenaldentem, Total size: 40\n",
      "Coast: cadiz, Total size: 946\n",
      "Coast: cies, Total size: 430\n",
      "Coast: samarador, Total size: 57\n",
      "\n",
      "Train size:  1200\n",
      "Validation size:  343\n",
      "Test size:  174\n"
     ]
    }
   ],
   "source": [
    "data_splits = data.split_data(val_size = 0.2, test_size = 0.1)\n",
    "\n",
    "print(\"\\nTrain size: \", len(data_splits[\"train\"]['images']))\n",
    "print(\"Validation size: \", len(data_splits[\"validation\"]['images']))\n",
    "print(\"Test size: \", len(data_splits[\"test\"]['images']))"
   ]
  },
  {
   "cell_type": "code",
   "execution_count": null,
   "metadata": {},
   "outputs": [],
   "source": []
  }
 ],
 "metadata": {
  "kernelspec": {
   "display_name": "imagine",
   "language": "python",
   "name": "python3"
  },
  "language_info": {
   "codemirror_mode": {
    "name": "ipython",
    "version": 3
   },
   "file_extension": ".py",
   "mimetype": "text/x-python",
   "name": "python",
   "nbconvert_exporter": "python",
   "pygments_lexer": "ipython3",
   "version": "3.13.2"
  }
 },
 "nbformat": 4,
 "nbformat_minor": 2
}
