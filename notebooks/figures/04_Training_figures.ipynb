{
 "cells": [
  {
   "cell_type": "code",
   "execution_count": 5,
   "id": "b8dd73ac",
   "metadata": {},
   "outputs": [
    {
     "name": "stdout",
     "output_type": "stream",
     "text": [
      "{'validation_accuracy': 0.73739153, 'validation_f1': 0.74056822, 'validation_precision': 0.76037127, 'validation_recall': 0.73739153, 'validation_loss': 0.7755514294339158, 'train_accuracy': 0.80393887, 'train_f1': 0.82935894, 'train_precision': 0.89459598, 'train_recall': 0.80393887, 'train_loss': 0.7511205277477354}\n"
     ]
    }
   ],
   "source": [
    "import mlflow\n",
    "import pandas as pd\n",
    "import os\n",
    "import sys\n",
    "from mlflow.tracking import MlflowClient\n",
    "\n",
    "# Add the src directory to the path. TEMPORARY FIX\n",
    "sys.path.append(os.path.abspath(os.path.join(os.getcwd(), \"../..\")))\n",
    "\n",
    "from src.models.utils.mlflow_manager import MLflowManager\n",
    "\n",
    "experiment_name = \"test_experiments\"\n",
    "\n",
    "mlflow_manager = MLflowManager(experiment_name=experiment_name)\n",
    "\n",
    "client = MlflowClient()\n",
    "\n",
    "# run = mlflow_manager.search_runs(134)\n",
    "# # print(run)\n",
    "\n",
    "# metrics_df = run.filter(regex=\"^metrics\\.\")\n",
    "# print(metrics_df)\n",
    "\n",
    "print(client.get_run(\"7068e92cd88145ccb23ced8cb2051640\").data.metrics)\n",
    "\n",
    "# metric_names = [m.key for m in client.get_run(\"7068e92cd88145ccb23ced8cb2051640\").data.metrics]\n",
    "\n",
    "# print(\"Metric names:\", metric_names)\n",
    "\n",
    "\n",
    "\n",
    "# # Obté totes les runs de l'experiment\n",
    "# runs_df = mlflow.search_runs(experiment_ids=[experiment.experiment_id])\n",
    "\n",
    "# # Mostra només les mètriques (i altres columnes si vols)\n",
    "# metrics_df = runs_df.filter(regex=\"^metrics\\.\")\n",
    "\n",
    "# # Guarda-ho a CSV o Excel\n",
    "# metrics_df.to_csv(\"exported_metrics.csv\", index=False)\n",
    "# # També pots fer: metrics_df.to_excel(\"exported_metrics.xlsx\", index=False)\n"
   ]
  },
  {
   "cell_type": "code",
   "execution_count": 6,
   "id": "d82bcdeb",
   "metadata": {},
   "outputs": [
    {
     "name": "stdout",
     "output_type": "stream",
     "text": [
      "   epoch  validation_accuracy  validation_f1  validation_precision  \\\n",
      "0      0             0.670094       0.668660              0.672467   \n",
      "1      1             0.676689       0.672677              0.670739   \n",
      "2      2             0.687223       0.684305              0.682287   \n",
      "3      3             0.688914       0.685376              0.682970   \n",
      "4      4             0.693526       0.690233              0.687898   \n",
      "\n",
      "   validation_recall  validation_loss  train_accuracy  train_f1  \\\n",
      "0           0.670094         0.846808        0.686298  0.685003   \n",
      "1           0.676689         0.840380        0.690130  0.688783   \n",
      "2           0.687223         0.824270        0.693839  0.692538   \n",
      "3           0.688914         0.823155        0.696662  0.695382   \n",
      "4           0.693526         0.816688        0.698641  0.697396   \n",
      "\n",
      "   train_precision  train_recall  train_loss  \n",
      "0         0.684430      0.686298    0.819800  \n",
      "1         0.688246      0.690130    0.815072  \n",
      "2         0.691980      0.693839    0.810626  \n",
      "3         0.694791      0.696662    0.807265  \n",
      "4         0.696793      0.698641    0.804911  \n"
     ]
    }
   ],
   "source": [
    "from mlflow.tracking import MlflowClient\n",
    "import pandas as pd\n",
    "\n",
    "client = MlflowClient()\n",
    "run_id = \"7068e92cd88145ccb23ced8cb2051640\"\n",
    "\n",
    "# Si no saps quines mètriques hi ha:\n",
    "# Això només et dona el darrer valor, però podem agafar-ne el nom\n",
    "latest_metrics = client.get_run(run_id).data.metrics\n",
    "metric_names = list(latest_metrics.keys())\n",
    "\n",
    "# Recollim l'historial complet de cada mètrica\n",
    "metrics_data = {}\n",
    "\n",
    "for name in metric_names:\n",
    "    history = client.get_metric_history(run_id, name)\n",
    "    # Ordenar per epoch (pas) i extreure només els valors\n",
    "    metrics_data[name] = [m.value for m in sorted(history, key=lambda x: x.step)]\n",
    "\n",
    "# Suposem que totes les mètriques tenen el mateix nombre d'èpoques\n",
    "num_epochs = len(next(iter(metrics_data.values())))\n",
    "metrics_data[\"epoch\"] = list(range(num_epochs))\n",
    "\n",
    "# Convertim a DataFrame\n",
    "df = pd.DataFrame(metrics_data)\n",
    "df = df[[\"epoch\"] + metric_names]  # Reordenar columnes\n",
    "\n",
    "print(df.head())\n"
   ]
  },
  {
   "cell_type": "code",
   "execution_count": 7,
   "id": "d8d1bd6a",
   "metadata": {},
   "outputs": [
    {
     "name": "stdout",
     "output_type": "stream",
     "text": [
      "JSON creat correctament com 'run_metrics.json'\n"
     ]
    }
   ],
   "source": [
    "import mlflow\n",
    "from mlflow.tracking import MlflowClient\n",
    "import json\n",
    "\n",
    "# Defineix la run\n",
    "run_id = \"7068e92cd88145ccb23ced8cb2051640\"\n",
    "client = MlflowClient()\n",
    "\n",
    "# Noms de mètriques (els últims valors)\n",
    "metric_names = list(client.get_run(run_id).data.metrics.keys())\n",
    "\n",
    "metrics_history = {}\n",
    "loss_history = None\n",
    "\n",
    "for name in metric_names:\n",
    "    history = client.get_metric_history(run_id, name)\n",
    "\n",
    "    # Excloure objectes no escalaris (com la matriu de confusió)\n",
    "    # Assumim que qualsevol valor que no sigui float o int s'ignora\n",
    "    values = []\n",
    "    for m in sorted(history, key=lambda x: x.step):\n",
    "        if isinstance(m.value, (float, int)):\n",
    "            values.append(m.value)\n",
    "    \n",
    "    # Identifiquem la pèrdua (loss)\n",
    "    if \"loss\" in name.lower():\n",
    "        loss_history = values\n",
    "    else:\n",
    "        metrics_history[name] = values\n",
    "\n",
    "# JSON final\n",
    "output = {\n",
    "    \"metrics_history\": metrics_history,\n",
    "    \"loss_history\": loss_history\n",
    "}\n",
    "\n",
    "# Guardar\n",
    "with open(\"run_metrics.json\", \"w\") as f:\n",
    "    json.dump(output, f, indent=4)\n",
    "\n",
    "print(\"JSON creat correctament com 'run_metrics.json'\")\n"
   ]
  },
  {
   "cell_type": "code",
   "execution_count": null,
   "id": "10da5bf6",
   "metadata": {},
   "outputs": [],
   "source": []
  }
 ],
 "metadata": {
  "kernelspec": {
   "display_name": "imagine",
   "language": "python",
   "name": "python3"
  },
  "language_info": {
   "codemirror_mode": {
    "name": "ipython",
    "version": 3
   },
   "file_extension": ".py",
   "mimetype": "text/x-python",
   "name": "python",
   "nbconvert_exporter": "python",
   "pygments_lexer": "ipython3",
   "version": "3.13.2"
  }
 },
 "nbformat": 4,
 "nbformat_minor": 5
}
