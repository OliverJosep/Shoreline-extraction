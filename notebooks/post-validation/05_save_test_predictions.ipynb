{
 "cells": [
  {
   "cell_type": "code",
   "execution_count": null,
   "id": "8e6a3d75",
   "metadata": {},
   "outputs": [],
   "source": [
    "import os\n",
    "import cv2\n",
    "import numpy as np\n",
    "import matplotlib.pyplot as plt\n",
    "\n",
    "import sys\n",
    "sys.path.append(os.path.abspath(os.path.join(os.getcwd(), \"../..\")))\n",
    "\n",
    "from src.data_postprocessing import obtain_shoreline"
   ]
  },
  {
   "cell_type": "code",
   "execution_count": null,
   "id": "56e37599",
   "metadata": {},
   "outputs": [],
   "source": [
    "predictions_path = {\n",
    "    \"deeplabv3\": os.path.abspath(os.path.join(os.getcwd(), \"../../data/SCLabels_prediction_by_set_deeplab/\")),\n",
    "}\n",
    "\n",
    "sation_names = [\"agrelo\", \"arenaldentem\", \"cadiz\", \"cies\", \"samarador\",]\n",
    "\n",
    "# Path of the test images organized by station\n",
    "test_path = \"images/test/\"\n",
    "test_images_path = {\n",
    "    \"agrelo\": [],\n",
    "    \"arenaldentem\": [],\n",
    "    \"cadiz\": [],\n",
    "    \"cies\": [],\n",
    "    \"samarador\": [],\n",
    "}\n",
    "\n",
    "for img_path in os.listdir(os.path.join(predictions_path[\"deeplabv3\"], test_path)):\n",
    "    if \"agrelo\" in img_path:\n",
    "        test_images_path[\"agrelo\"].append(img_path)\n",
    "    elif \"arenaldentem\" in img_path:\n",
    "        test_images_path[\"arenaldentem\"].append(img_path)\n",
    "    elif \"cadiz\" in img_path:\n",
    "        test_images_path[\"cadiz\"].append(img_path)\n",
    "    elif \"cies\" in img_path:\n",
    "        test_images_path[\"cies\"].append(img_path)\n",
    "    elif \"samarador\" in img_path:\n",
    "        test_images_path[\"samarador\"].append(img_path)\n",
    "\n",
    "for station in sation_names:\n",
    "    print(f\"Station: {station}\")\n",
    "    print(\"length of test images path: \", len(test_images_path[station]))"
   ]
  },
  {
   "cell_type": "code",
   "execution_count": null,
   "id": "25b2e2c8",
   "metadata": {},
   "outputs": [],
   "source": [
    "# Create a KDTree for the Ground Truth coordinates\n",
    "from scipy.spatial import cKDTree\n",
    "\n",
    "def compute_distance(mask_pred, mask_gt):\n",
    "    coords_pred = np.column_stack(np.where(mask_pred == 1))\n",
    "    coords_gt = np.column_stack(np.where(mask_gt == 1))\n",
    "\n",
    "    # Distance from predicted to GT\n",
    "    # Create a KDTree for the Ground Truth coordinates\n",
    "    tree_gt = cKDTree(coords_gt)\n",
    "\n",
    "    # Find the nearest neighbors in the Ground Truth for each coordinate in the predicted mask\n",
    "    dists_pred_to_gt, _ = tree_gt.query(coords_pred)\n",
    "\n",
    "    # Distance from GT to predicted\n",
    "    # Create a KDTree for the predicted coordinates\n",
    "    tree_pred = cKDTree(coords_pred)\n",
    "    # Find the nearest neighbors in the predicted for each coordinate in the GT mask\n",
    "    dists_gt_to_pred, _ = tree_pred.query(coords_gt)\n",
    "\n",
    "    return dists_pred_to_gt, dists_gt_to_pred\n",
    "\n",
    "def apply_masks(image, mask, predicted_mask, shoreline_pixel_mask, shoreline_pixel_predicted_mask):\n",
    "    # Copy original image\n",
    "    overlay = image.copy()\n",
    "\n",
    "    alpha = 0.6\n",
    "\n",
    "    green = np.array([0, 255, 0], dtype=np.uint8)     # Shoreline\n",
    "    red = np.array([255, 0, 0], dtype=np.uint8)       # Predicted shoreline\n",
    "    yellow = np.array([255, 255, 0], dtype=np.uint8)  # Combined shoreline\n",
    "\n",
    "    # Create masks for shoreline pixels\n",
    "    only_shoreline = (mask == shoreline_pixel_mask) & (predicted_mask != shoreline_pixel_predicted_mask)\n",
    "    only_predicted = (mask != shoreline_pixel_mask) & (predicted_mask == shoreline_pixel_predicted_mask)\n",
    "    both = (mask == shoreline_pixel_mask) & (predicted_mask == shoreline_pixel_predicted_mask)\n",
    "\n",
    "    # Apply colors to the overlay\n",
    "    overlay[only_shoreline] = (\n",
    "        alpha * green + (1 - alpha) * overlay[only_shoreline]\n",
    "    ).astype(np.uint8)\n",
    "\n",
    "    overlay[only_predicted] = (\n",
    "        alpha * red + (1 - alpha) * overlay[only_predicted]\n",
    "    ).astype(np.uint8)\n",
    "\n",
    "    overlay[both] = (\n",
    "        alpha * yellow + (1 - alpha) * overlay[both]\n",
    "    ).astype(np.uint8)\n",
    "\n",
    "    return overlay\n",
    "\n",
    "def get_image(predictions_path, test_images_path, station, index, shoreline_pixel_mask, shoreline_pixel_predicted_mask):\n",
    "    path_img = os.path.join(predictions_path, \"images/test\",test_images_path[station][index])\n",
    "    print(f\"Reading image from: {path_img}\")\n",
    "    img = cv2.imread(path_img)\n",
    "    img = cv2.cvtColor(img, cv2.COLOR_BGR2RGB)\n",
    "\n",
    "    # Read mask\n",
    "    path_mask = os.path.join(predictions_path, \"masks/test\",test_images_path[station][index].replace(\"image.jpg\", \"mask.png\"))\n",
    "    mask = cv2.imread(path_mask, cv2.IMREAD_GRAYSCALE)\n",
    "\n",
    "    # Read predicted mask\n",
    "    path_predicted_mask = os.path.join(predictions_path, \"predicted_mask/test\",test_images_path[station][index].replace(\"image.jpg\", \"mask.png\"))\n",
    "    \n",
    "    predicted_mask = obtain_shoreline.transform_mask_to_shoreline(pred_path = path_predicted_mask, landward=1, seaward=2)\n",
    "    mask[mask == 3] = 1  # Convert shoreline class to landward class\n",
    "    mask = obtain_shoreline.transform_mask_to_shoreline_from_img(pred = mask, landward=1, seaward=2)\n",
    "    new_mask = np.zeros_like(mask)\n",
    "    new_mask[mask == 1] = shoreline_pixel_mask  # Landward\n",
    "    mask = new_mask\n",
    "\n",
    "    combined_image = apply_masks(img, mask, predicted_mask, shoreline_pixel_mask=shoreline_pixel_mask, shoreline_pixel_predicted_mask=shoreline_pixel_predicted_mask)\n",
    "\n",
    "    return combined_image"
   ]
  },
  {
   "cell_type": "code",
   "execution_count": null,
   "id": "427bc6a8",
   "metadata": {},
   "outputs": [],
   "source": [
    "# Create directories for saving predictions\n",
    "path = os.path.abspath(os.path.join(os.getcwd(), \"../../predictions/station\"))\n",
    "\n",
    "os.makedirs(path, exist_ok=True)\n",
    "for station_name in sation_names:\n",
    "    os.makedirs(os.path.join(path, station_name), exist_ok=True)"
   ]
  },
  {
   "cell_type": "code",
   "execution_count": null,
   "id": "7eea81fa",
   "metadata": {},
   "outputs": [],
   "source": [
    "import numpy as np\n",
    "import cv2\n",
    "\n",
    "for station_name in sation_names:\n",
    "    print(f\"Station: {station_name}\")\n",
    "    for index in range(len(test_images_path[station_name])):\n",
    "        img = get_image(predictions_path[\"deeplabv3\"], test_images_path, station_name, index, shoreline_pixel_mask = 1, shoreline_pixel_predicted_mask = 1)\n",
    "\n",
    "        prediction_path_name = os.path.join(path, station_name, test_images_path[station_name][index].replace(\"image.jpg\", \"prediction.png\"))\n",
    "        cv2.imwrite(prediction_path_name, cv2.cvtColor(img, cv2.COLOR_RGB2BGR))\n"
   ]
  },
  {
   "cell_type": "markdown",
   "id": "dc29fd1c",
   "metadata": {},
   "source": [
    "# Create the split folder"
   ]
  },
  {
   "cell_type": "code",
   "execution_count": 54,
   "id": "23883e56",
   "metadata": {},
   "outputs": [],
   "source": [
    "# Create directories for saving predictions\n",
    "path = os.path.abspath(os.path.join(os.getcwd(), \"../../predictions/splits\"))\n",
    "os.makedirs(path, exist_ok=True)"
   ]
  },
  {
   "cell_type": "code",
   "execution_count": null,
   "id": "e09d81cb",
   "metadata": {},
   "outputs": [
    {
     "name": "stdout",
     "output_type": "stream",
     "text": [
      "Creating directory for split: train\n",
      "Creating directory for split: val\n",
      "Creating directory for split: test\n"
     ]
    }
   ],
   "source": [
    "splits = {\n",
    "    \"train\": \"images/train/\",\n",
    "    \"val\": \"images/validation/\",\n",
    "    \"test\": \"images/test/\",\n",
    "}\n",
    "\n",
    "for split_name, relative_dir in splits.items():\n",
    "    print(f\"Creating directory for split: {split_name}\")\n",
    "\n",
    "    full_split_dir = os.path.join(predictions_path[\"deeplabv3\"], relative_dir)\n",
    "    \n",
    "    entries = []\n",
    "    for filename in os.listdir(full_split_dir):\n",
    "        entries.append(filename)\n",
    "\n",
    "    # Save the entries to a text file\n",
    "    split_file_path = os.path.join(path, f\"{split_name}.txt\")\n",
    "    with open(split_file_path, 'w') as f:\n",
    "        for entry in entries:\n",
    "            f.write(f\"{entry}\\n\")\n",
    "    "
   ]
  },
  {
   "cell_type": "code",
   "execution_count": null,
   "id": "1eec1bb3",
   "metadata": {},
   "outputs": [],
   "source": []
  }
 ],
 "metadata": {
  "kernelspec": {
   "display_name": "imagine",
   "language": "python",
   "name": "python3"
  },
  "language_info": {
   "codemirror_mode": {
    "name": "ipython",
    "version": 3
   },
   "file_extension": ".py",
   "mimetype": "text/x-python",
   "name": "python",
   "nbconvert_exporter": "python",
   "pygments_lexer": "ipython3",
   "version": "3.13.2"
  }
 },
 "nbformat": 4,
 "nbformat_minor": 5
}
